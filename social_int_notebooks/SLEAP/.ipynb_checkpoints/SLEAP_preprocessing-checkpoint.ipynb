{
 "cells": [
  {
   "cell_type": "markdown",
   "metadata": {},
   "source": [
    "# import packages"
   ]
  },
  {
   "cell_type": "code",
   "execution_count": 1,
   "metadata": {},
   "outputs": [],
   "source": [
    "import os\n",
    "import math    "
   ]
  },
  {
   "cell_type": "markdown",
   "metadata": {},
   "source": [
    "# Import videos"
   ]
  },
  {
   "cell_type": "code",
   "execution_count": 2,
   "metadata": {},
   "outputs": [],
   "source": [
    "# import videos\n",
    "\n",
    "def list_mp4_files(directory):\n",
    "    # List to store mp4 file names\n",
    "    mp4_files = []\n",
    "\n",
    "    # Iterate through files in the given directory\n",
    "    for filename in os.listdir(directory):\n",
    "        # Check if file is an mp4\n",
    "        if filename.endswith('.mp4'):\n",
    "            mp4_files.append(filename)\n",
    "    \n",
    "    return mp4_files\n",
    "\n",
    "\n",
    "# save video names\n",
    "\n",
    "# Example usage\n",
    "directory_path = '/Users/ellasay/Google Drive/My Drive/can_project/behavior/videos/day4'\n",
    "mp4_files = list_mp4_files(directory_path)"
   ]
  },
  {
   "cell_type": "code",
   "execution_count": 3,
   "metadata": {},
   "outputs": [
    {
     "name": "stdout",
     "output_type": "stream",
     "text": [
      "['day3_unrestrictedfam_0914.4.mp4', 'day3_unrestrictedfam_0914.1.mp4', 'day3_unrestrictednov_0914.4.mp4', 'day3_unrestrictednov_0914.1.mp4', 'day3_unrestrictednov_0921.2.mp4', 'day3_unrestrictedfam_0921.2.mp4']\n"
     ]
    }
   ],
   "source": [
    "print(mp4_files)"
   ]
  },
  {
   "cell_type": "markdown",
   "metadata": {},
   "source": [
    "# Create bash script to edit video (brightness, contrast)"
   ]
  },
  {
   "cell_type": "code",
   "execution_count": 9,
   "metadata": {},
   "outputs": [
    {
     "name": "stdout",
     "output_type": "stream",
     "text": [
      "Bash script created: /Users/ellasay/Google Drive/My Drive/can_project/behavior/videos/edit_videos.sh\n"
     ]
    }
   ],
   "source": [
    "# make bash script to edit brightness and contrast using ffmpeg\n",
    "\n",
    "def edit_video(dir, output, mp4_files, brightness=0.0, contrast=1.0): #defaults brightness 0.0 default contrast 1.0\n",
    "    # Create a bash script file\n",
    "    script_path = os.path.join(dir, 'edit_videos.sh')\n",
    "    \n",
    "    with open(script_path, 'w') as script_file:\n",
    "        # Write the bash script header\n",
    "        script_file.write(\"#!/bin/bash\\n\\n\")\n",
    "\n",
    "        # Loop through each mp4 file and generate ffmpeg commands\n",
    "        for video in mp4_files:\n",
    "            filename = os.path.splitext(video)[0]\n",
    "            input_path = os.path.join(dir, video)\n",
    "            output_path = os.path.join(output, f\"{filename}_edited.mp4\")\n",
    "            \n",
    "            # Generate ffmpeg command to adjust brightness and contrast\n",
    "            # ffmpeg_command = f\"ffmpeg -i \\\"{input_path}\\\" -vf eq=brightness={brightness}:contrast={contrast} \\\"{output_path}\\\"\\n\"\n",
    "\n",
    "            # Generate ffmpeg command to convert file type\n",
    "            ffmpeg_command = f\"ffmpeg -y -i \\\"{input_path}\\\" -c:v libx264 -pix_fmt yuv420p -preset superfast -crf 23 \\\"{output_path}\\\"\\n\"\n",
    "            \n",
    "            # Write the command to the bash script\n",
    "            script_file.write(ffmpeg_command)\n",
    "\n",
    "    # Make the bash script executable\n",
    "    os.chmod(script_path, 0o755)\n",
    "    print(f\"Bash script created: {script_path}\")\n",
    "\n",
    "# Change the brightness and contrast here\n",
    "brightness_value = 0.1 \n",
    "contrast_value = 1.2   \n",
    "\n",
    "directory_path = \"/Users/ellasay/Google Drive/My Drive/can_project/behavior/videos/\"\n",
    "output_directory = \"/Users/ellasay/Google Drive/My Drive/can_project/behavior/videos\"\n",
    "\n",
    "edit_video(directory_path, output_directory, mp4_files, brightness_value, contrast_value)\n"
   ]
  },
  {
   "cell_type": "markdown",
   "metadata": {},
   "source": [
    "# Create bash script to run inference on videos \n",
    "batched, run using tmux"
   ]
  },
  {
   "cell_type": "code",
   "execution_count": 3,
   "metadata": {},
   "outputs": [
    {
     "name": "stdout",
     "output_type": "stream",
     "text": [
      "Created 3 bash scripts in /Users/ellasay/Google Drive/My Drive/can_project/behavior/videos/day4\n"
     ]
    }
   ],
   "source": [
    "def create_inference_script(directory, mp4_files, model_path, batch_size=4):\n",
    "    # Calculate the number of scripts needed\n",
    "    num_scripts = math.ceil(len(mp4_files) / batch_size)\n",
    "\n",
    "    # Write the bash scripts\n",
    "    for script_index in range(num_scripts):\n",
    "        # Create a bash script file\n",
    "        script_filename = f\"{str(script_index+1).zfill(2)}_inference.bash\" #name scripts\n",
    "        script_path = os.path.join(directory, script_filename)\n",
    "\n",
    "        with open(script_path, 'w') as script_file:\n",
    "            # Write the bash script header\n",
    "            script_file.write(\"#!/bin/bash\\n\\n\")\n",
    "\n",
    "            # Write sleap-track commands for a batch of videos\n",
    "            start_index = script_index * batch_size\n",
    "            end_index = min(start_index + batch_size, len(mp4_files))\n",
    "\n",
    "            for i in range(start_index, end_index):\n",
    "                video_path = os.path.join(directory, mp4_files[i])\n",
    "                sleap_command = (\n",
    "                    f\"sleap-track \\\"{video_path}\\\" \"\n",
    "                    f\"-m \\\"{model_path}\\\"\\n\"\n",
    "\n",
    "                    # Convert .slp files to .h5 files for analysis\n",
    "                    f\"sleap-convert \\\"{video_path}.predictions.slp\\\" \"\n",
    "                    f\"--format analysis \\n\"\n",
    "                )\n",
    "                # Write the command to the bash script\n",
    "                script_file.write(sleap_command)\n",
    "\n",
    "        # Make the bash script executable\n",
    "        os.chmod(script_path, 0o755)\n",
    "\n",
    "    print(f\"Created {num_scripts} bash scripts in {directory}\")\n",
    "\n",
    "# Example usage\n",
    "directory_path = '/Users/ellasay/Google Drive/My Drive/can_project/behavior/videos/day4'\n",
    "# mp4_files = [] # filled from previous cell\n",
    "model_path = '/Users/ellasay/Google Drive/My Drive/can_project/behavior/v2_model/models/241107_115511.single_instance.n=805'  # Replace with the actual path to your model\n",
    "\n",
    "# Create bash scripts, each with 4 videos\n",
    "create_inference_script(directory_path, mp4_files, model_path, batch_size=4)\n"
   ]
  },
  {
   "cell_type": "code",
   "execution_count": null,
   "metadata": {},
   "outputs": [],
   "source": []
  }
 ],
 "metadata": {
  "kernelspec": {
   "display_name": "sleap",
   "language": "python",
   "name": "python3"
  },
  "language_info": {
   "codemirror_mode": {
    "name": "ipython",
    "version": 3
   },
   "file_extension": ".py",
   "mimetype": "text/x-python",
   "name": "python",
   "nbconvert_exporter": "python",
   "pygments_lexer": "ipython3",
   "version": "3.9.15"
  }
 },
 "nbformat": 4,
 "nbformat_minor": 2
}
