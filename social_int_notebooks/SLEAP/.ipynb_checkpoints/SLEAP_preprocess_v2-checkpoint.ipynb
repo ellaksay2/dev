{
 "cells": [
  {
   "cell_type": "code",
   "execution_count": null,
   "metadata": {},
   "outputs": [],
   "source": []
  },
  {
   "cell_type": "markdown",
   "metadata": {},
   "source": [
    "### Packages"
   ]
  },
  {
   "cell_type": "code",
   "execution_count": 1,
   "metadata": {},
   "outputs": [],
   "source": [
    "import os\n",
    "import math"
   ]
  },
  {
   "cell_type": "markdown",
   "metadata": {},
   "source": [
    "### Functions"
   ]
  },
  {
   "cell_type": "code",
   "execution_count": 2,
   "metadata": {},
   "outputs": [],
   "source": [
    "# import videos\n",
    "\n",
    "def list_mp4_files(directory):\n",
    "    # List to store mp4 file names\n",
    "    mp4_files = []\n",
    "\n",
    "    # Iterate through files in the given directory\n",
    "    for filename in os.listdir(directory):\n",
    "        # Check if file is an mp4\n",
    "        if filename.endswith('.mp4'):\n",
    "            mp4_files.append(filename)\n",
    "    \n",
    "    return mp4_files\n",
    "\n",
    "\n",
    "def edit_video_bash(dir, output, mp4_files, brightness=0.0, contrast=1.0): #defaults brightness 0.0 default contrast 1.0\n",
    "    # Create a bash script file\n",
    "    script_path = os.path.join(dir, 'edit_videos.sh')\n",
    "    \n",
    "    with open(script_path, 'w') as script_file:\n",
    "        # Write the bash script header\n",
    "        script_file.write(\"#!/bin/bash\\n\\n\")\n",
    "\n",
    "        # Loop through each mp4 file and generate ffmpeg commands\n",
    "        for video in mp4_files:\n",
    "            filename = os.path.splitext(video)[0]\n",
    "            input_path = os.path.join(dir, video)\n",
    "            output_path = os.path.join(output, f\"{filename}_edited.mp4\")\n",
    "            \n",
    "            # Generate ffmpeg command to adjust brightness and contrast\n",
    "            ffmpeg_command = f\"ffmpeg -i \\\"{input_path}\\\" -vf eq=brightness={brightness}:contrast={contrast} \\\"{output_path}\\\"\\n\"\n",
    "\n",
    "            # Generate ffmpeg command to convert file type\n",
    "            # ffmpeg_command = f\"ffmpeg -y -i \\\"{input_path}\\\" -c:v libx264 -pix_fmt yuv420p -preset superfast -crf 23 \\\"{output_path}\\\"\\n\"\n",
    "            \n",
    "            # Write the command to the bash script\n",
    "            script_file.write(ffmpeg_command)\n",
    "\n",
    "    # Make the bash script executable\n",
    "    os.chmod(script_path, 0o755)\n",
    "    print(f\"Bash script created: {script_path}\")\n",
    "\n",
    "\n",
    "def edit_video_batch(dir, output, mp4_files, brightness=0.0, contrast=1.0): #defaults brightness 0.0 default contrast 1.0\n",
    "    # Create a bash script file\n",
    "    script_path = os.path.join(dir, 'edit_videos.')\n",
    "    \n",
    "    with open(script_path, 'w') as script_file:\n",
    "        # Write the bash script header\n",
    "        script_file.write(\"@echo off\\n\\n\")\n",
    "\n",
    "        # Loop through each mp4 file and generate ffmpeg commands\n",
    "        for video in mp4_files:\n",
    "            filename = os.path.splitext(video)[0]\n",
    "            input_path = os.path.join(dir, video)\n",
    "            output_path = os.path.join(output, f\"{filename}_edited.mp4\")\n",
    "            \n",
    "            # Generate ffmpeg command to adjust brightness and contrast\n",
    "            ffmpeg_command = f\"ffmpeg -i \\\"{input_path}\\\" -vf eq=brightness={brightness}:contrast={contrast} \\\"{output_path}\\\"\\n\"\n",
    "\n",
    "            # Generate ffmpeg command to convert file type\n",
    "            # ffmpeg_command = f\"ffmpeg -y -i \\\"{input_path}\\\" -c:v libx264 -pix_fmt yuv420p -preset superfast -crf 23 \\\"{output_path}\\\"\\n\"\n",
    "            \n",
    "            # Write the command to the bash script\n",
    "            script_file.write(ffmpeg_command)\n",
    "\n",
    "    # Make the bash script executable\n",
    "    os.chmod(script_path, 0o755)\n",
    "    print(f\"Batch script created: {script_path}\")\n",
    "\n",
    "def create_inference_bash(directory, mp4_files, model_path, batch_size=4):\n",
    "    # Calculate the number of scripts needed\n",
    "    num_scripts = math.ceil(len(mp4_files) / batch_size)\n",
    "\n",
    "    # Write the bash scripts\n",
    "    for script_index in range(num_scripts):\n",
    "        # Create a bash script file \n",
    "        script_filename = f\"{str(script_index+1).zfill(2)}_inference.sh\" #name scripts\n",
    "        script_path = os.path.join(directory, script_filename)\n",
    "\n",
    "        with open(script_path, 'w') as script_file:\n",
    "            # Write the bash script header (LINUX)\n",
    "            script_file.write(\"#!/bin/bash\\n\\n\")\n",
    "            # Write the batch script header (WINDOWS)\n",
    "\n",
    "            # Write sleap-track commands for a batch of videos\n",
    "            start_index = script_index * batch_size\n",
    "            end_index = min(start_index + batch_size, len(mp4_files))\n",
    "\n",
    "            for i in range(start_index, end_index):\n",
    "                video_path = os.path.join(directory, mp4_files[i])\n",
    "                sleap_command = (\n",
    "                    f\"sleap-track \\\"{video_path}\\\" \"\n",
    "                    f\"-m \\\"{model_path}\\\"\"\n",
    "                    f\"-o \\\"{video_path}.predictions.slp\\n\"\n",
    "\n",
    "                    # Convert .slp files to .h5 files for analysis\n",
    "                    f\"sleap-convert \\\"{video_path}.predictions.slp\\\" \"\n",
    "                    f\"--format analysis \\n\"\n",
    "                )\n",
    "                # Write the command to the bash script\n",
    "                script_file.write(sleap_command)\n",
    "\n",
    "        # Make the bash script executable\n",
    "        os.chmod(script_path, 0o755)\n",
    "\n",
    "    print(f\"Created {num_scripts} bash scripts in {directory}\")\n",
    "\n",
    "\n",
    "def create_inference_batch(directory, mp4_files, model_path, batch_size=4):\n",
    "    # Calculate the number of scripts needed\n",
    "    num_scripts = math.ceil(len(mp4_files) / batch_size)\n",
    "\n",
    "    # Write the batch scripts\n",
    "    for script_index in range(num_scripts):\n",
    "        # Create a batch script file \n",
    "        script_filename = f\"{str(script_index+1).zfill(2)}_inference.bat\" #name scripts\n",
    "\n",
    "        script_path = os.path.join(directory, script_filename)\n",
    "\n",
    "        with open(script_path, 'w') as script_file:\n",
    "\n",
    "            # Write the batch script header (WINDOWS)\n",
    "            script_file.write(\"@echo off\\n\\n\")\n",
    "\n",
    "\n",
    "            # Write sleap-track commands for a batch of videos\n",
    "            start_index = script_index * batch_size\n",
    "            end_index = min(start_index + batch_size, len(mp4_files))\n",
    "\n",
    "            for i in range(start_index, end_index):\n",
    "                video_path = os.path.join(directory, mp4_files[i])\n",
    "                sleap_command = (\n",
    "                    f\"sleap-track \\\"{video_path}\\\" \"\n",
    "                    f\"-m \\\"{model_path}\\\" \"\n",
    "                    f\"-o \\\"{video_path}.predictions.slp\\n\"\n",
    "\n",
    "                    # Convert .slp files to .h5 files for analysis\n",
    "                    f\"sleap-convert \\\"{video_path}.predictions.slp\\\" \"\n",
    "                    f\"--format analysis \\n\"\n",
    "                )\n",
    "                # Write the command to the bash script\n",
    "                script_file.write(sleap_command)\n",
    "\n",
    "        # Make the bash script executable\n",
    "        os.chmod(script_path, 0o755)\n",
    "\n",
    "    print(f\"Created {num_scripts} bash scripts in {directory}\")"
   ]
  },
  {
   "cell_type": "markdown",
   "metadata": {},
   "source": [
    "### Create bash script to edit video (brightness, contrast, file encoding)"
   ]
  },
  {
   "cell_type": "code",
   "execution_count": null,
   "metadata": {},
   "outputs": [
    {
     "name": "stdout",
     "output_type": "stream",
     "text": [
      "Bash script created: G://My Drive/can_project/behavior/videos/day1\\edit_videos.sh\n"
     ]
    }
   ],
   "source": [
    "# make bash script to edit brightness and contrast using ffmpeg\n",
    "\n",
    "# Change the brightness and contrast here\n",
    "brightness_value = 0.5\n",
    "contrast_value = 2.0   \n",
    "\n",
    "# Linux dir format\n",
    "directory_path_linux = \"/oak/esay/cd_project/behavior/videos/day1\"\n",
    "output_directory_linux = directory_path_linux\n",
    "\n",
    "# Windows dir format\n",
    "directory_path_win = \"G://My Drive/can_project/behavior/videos/day1\"\n",
    "output_directory_win = directory_path_win\n",
    "\n",
    "mp4_files = list_mp4_files(directory_path_win)\n",
    "edit_video_bash(directory_path_linux, output_directory_linux, mp4_files, brightness_value, contrast_value)\n",
    "edit_video_batch(directory_path_win, output_directory_win, mp4_files, brightness_value, contrast_value)"
   ]
  },
  {
   "cell_type": "markdown",
   "metadata": {},
   "source": [
    "### Create bash script to run inference on videos (Linux/Sherlock)\n",
    "batched, run using tmux"
   ]
  },
  {
   "cell_type": "code",
   "execution_count": null,
   "metadata": {},
   "outputs": [
    {
     "name": "stdout",
     "output_type": "stream",
     "text": [
      "Created 2 bash scripts in /Users/ellasay/Google Drive/My Drive/can_project/behavior/videos/day1\n"
     ]
    }
   ],
   "source": [
    "directory_path = '/oak/esay/cd_project/behavior/videos/day1'\n",
    "# mp4_files = ['video1.mp4', 'video2.mp4', 'video3.mp4', 'video4.mp4', 'video5.mp4']  # Example list of videos\n",
    "model_path = '/oak/esay/cd_project/behavior/v3_model/models/241210_143147.single_instance.n=1794'  # Replace with the actual path to your model\n",
    "\n",
    "# Create bash scripts, each with 4 videos\n",
    "mp4_files = list_mp4_files(directory_path)\n",
    "create_inference_bash(directory_path, mp4_files, model_path, batch_size=4)\n"
   ]
  },
  {
   "cell_type": "markdown",
   "metadata": {},
   "source": [
    "### Write batch script (Windows)"
   ]
  },
  {
   "cell_type": "code",
   "execution_count": 3,
   "metadata": {},
   "outputs": [
    {
     "name": "stdout",
     "output_type": "stream",
     "text": [
      "Created 3 bash scripts in C:/Users/esay/data/social_interaction/SLEAP_raw\n"
     ]
    }
   ],
   "source": [
    "directory_path = 'C:/Users/esay/data/social_interaction/SLEAP_raw'\n",
    "# mp4_files = ['video1.mp4', 'video2.mp4', 'video3.mp4', 'video4.mp4', 'video5.mp4']  # Example list of videos\n",
    "model_path = 'Z:\\\\giocomo\\\\esay\\\\cd_project\\\\behavior\\\\v3_model\\\\models\\\\250113_165658.single_instance.n=2844'  # Replace with the actual path to your model\n",
    "\n",
    "# Create bash scripts, each with 4 videos\n",
    "mp4_files = list_mp4_files(directory_path)\n",
    "create_inference_batch(directory_path, mp4_files, model_path, batch_size=4)\n"
   ]
  },
  {
   "cell_type": "code",
   "execution_count": null,
   "metadata": {},
   "outputs": [],
   "source": []
  }
 ],
 "metadata": {
  "kernelspec": {
   "display_name": "Python 3 (ipykernel)",
   "language": "python",
   "name": "python3"
  },
  "language_info": {
   "codemirror_mode": {
    "name": "ipython",
    "version": 3
   },
   "file_extension": ".py",
   "mimetype": "text/x-python",
   "name": "python",
   "nbconvert_exporter": "python",
   "pygments_lexer": "ipython3",
   "version": "3.10.14"
  }
 },
 "nbformat": 4,
 "nbformat_minor": 4
}
