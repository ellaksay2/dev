{
 "cells": [
  {
   "cell_type": "code",
   "execution_count": 61,
   "id": "backed-sigma",
   "metadata": {},
   "outputs": [
    {
     "name": "stdout",
     "output_type": "stream",
     "text": [
      "The autoreload extension is already loaded. To reload it, use:\n",
      "  %reload_ext autoreload\n"
     ]
    }
   ],
   "source": [
    "import os\n",
    "import dill\n",
    "import h5py\n",
    "import seaborn as sns\n",
    "import matplotlib as mpl\n",
    "import matplotlib.pyplot as plt\n",
    "import numpy as np\n",
    "from matplotlib import pyplot as plt\n",
    "\n",
    "import TwoPUtils as tpu\n",
    "import InVivoDA_analyses as InVivoDA\n",
    "import STX3KO_analyses as stx\n",
    "import social_int_analyses as SI\n",
    "\n",
    "from social_int_analyses import utilities_ES as u\n",
    "from social_int_analyses import sleap_utils as slp\n",
    "\n",
    "%matplotlib inline\n",
    "\n",
    "%load_ext autoreload\n",
    "%autoreload 2"
   ]
  },
  {
   "cell_type": "code",
   "execution_count": 62,
   "id": "cca35804-d7c6-45c8-8ba2-26cc14124a8e",
   "metadata": {},
   "outputs": [],
   "source": [
    "social_int_behavior = SI.social_int_sess_deets.social_VR_sessions\n",
    "social_mice = SI.social_int_sess_deets.social_mice"
   ]
  },
  {
   "cell_type": "code",
   "execution_count": 63,
   "id": "f8d080ff-ddf3-4add-a68d-a64d15111b65",
   "metadata": {},
   "outputs": [
    {
     "name": "stdout",
     "output_type": "stream",
     "text": [
      "{'date': '03_10_2024', 'scene': 'social_emptytunnel', 'session': 1, 'scan': 1, 'exp_day': 1}\n"
     ]
    }
   ],
   "source": [
    "mouse = social_mice[1]\n",
    "f = social_int_behavior[mouse][1]\n",
    "print(f)\n",
    "f_ = u.update_sess_dict(mouse,f)"
   ]
  },
  {
   "cell_type": "code",
   "execution_count": 55,
   "id": "8b215140-b943-4d47-a9da-2791dd62b336",
   "metadata": {},
   "outputs": [
    {
     "name": "stdout",
     "output_type": "stream",
     "text": [
      "Fixing teleports\n"
     ]
    }
   ],
   "source": [
    "_ = u.run_and_save(f_, social = True)"
   ]
  },
  {
   "cell_type": "markdown",
   "id": "3ea81a43-bd6d-4f82-b044-78dd81d9649f",
   "metadata": {},
   "source": [
    "### check if sess can plot speed/licking"
   ]
  },
  {
   "cell_type": "code",
   "execution_count": 58,
   "id": "electrical-politics",
   "metadata": {},
   "outputs": [
    {
     "name": "stdout",
     "output_type": "stream",
     "text": [
      "{'date': '04_10_2024', 'scene': 'Env1_to_Env2_fixreward', 'session': 1, 'scan': 1, 'exp_day': 2}\n"
     ]
    },
    {
     "data": {
      "text/plain": [
       "<matplotlib.image.AxesImage at 0x26ea41253c0>"
      ]
     },
     "execution_count": 58,
     "metadata": {},
     "output_type": "execute_result"
    },
    {
     "data": {
      "image/png": "[encoded data removed]",
      "text/plain": [
       "<Figure size 640x480 with 1 Axes>"
      ]
     },
     "metadata": {},
     "output_type": "display_data"
    }
   ],
   "source": [
    "sess = SI.utilities_ES.load_vr_day(mouse,5)\n",
    "fig,ax = plt.subplots()\n",
    "ax.imshow(sess.trial_matrices['speed'][0])"
   ]
  },
  {
   "cell_type": "markdown",
   "id": "4f0f5bc9-d0c0-4fe1-bd0d-dcf2a420e4af",
   "metadata": {},
   "source": [
    "### create sess files with VR only"
   ]
  },
  {
   "cell_type": "code",
   "execution_count": 723,
   "id": "88e49f1f-8af4-4d7e-a77e-d192134ddcaa",
   "metadata": {
    "scrolled": true
   },
   "outputs": [
    {
     "name": "stdout",
     "output_type": "stream",
     "text": [
      "social-0914-1\n",
      "{'date': '03_10_2024', 'scene': 'Env1_to_Env2_fixreward', 'session': 1, 'scan': 1, 'exp_day': 2, 'mouse': 'social-0914-1', 'vr_filename': 'C:/Users/esay/data/social_interaction/VRData\\\\social-0914-1\\\\03_10_2024\\\\Env1_to_Env2_fixreward_1.sqlite', 'scan_number': 1, 'prompt_for_keys': False, 'VR_only': True, 'scanner': 'NLW'}\n",
      "social-0914-1 {'date': '03_10_2024', 'scene': 'Env1_to_Env2_fixreward', 'session': 1, 'scan': 1, 'exp_day': 2, 'mouse': 'social-0914-1', 'vr_filename': 'C:/Users/esay/data/social_interaction/VRData\\\\social-0914-1\\\\03_10_2024\\\\Env1_to_Env2_fixreward_1.sqlite', 'scan_number': 1, 'prompt_for_keys': False, 'VR_only': True, 'scanner': 'NLW'}\n",
      "Fixing teleports\n",
      "0\n",
      "0\n",
      "0\n",
      "0\n",
      "{'date': '03_10_2024', 'scene': 'social_emptytunnel', 'session': 1, 'scan': 1, 'exp_day': 2, 'mouse': 'social-0914-1', 'vr_filename': 'C:/Users/esay/data/social_interaction/VRData\\\\social-0914-1\\\\03_10_2024\\\\social_emptytunnel_1.sqlite', 'scan_number': 1, 'prompt_for_keys': False, 'VR_only': True, 'scanner': 'NLW', 'tunnel_data': False}\n",
      "True\n",
      "social_emptytunnel\n",
      "social_emptytunnel\n",
      "Fixing teleports\n",
      "{'date': '03_10_2024', 'scene': 'social_restrict_fam', 'session': 1, 'scan': 1, 'exp_day': 2, 'mouse': 'social-0914-1', 'vr_filename': 'C:/Users/esay/data/social_interaction/VRData\\\\social-0914-1\\\\03_10_2024\\\\social_restrict_fam_1.sqlite', 'scan_number': 1, 'prompt_for_keys': False, 'VR_only': True, 'scanner': 'NLW', 'tunnel_data': True}\n",
      "True\n",
      "social_restrict_fam\n",
      "Fixing teleports\n",
      "{'date': '03_10_2024', 'scene': 'social_unrestrict_fam', 'session': 1, 'scan': 1, 'exp_day': 2, 'mouse': 'social-0914-1', 'vr_filename': 'C:/Users/esay/data/social_interaction/VRData\\\\social-0914-1\\\\03_10_2024\\\\social_unrestrict_fam_1.sqlite', 'scan_number': 1, 'prompt_for_keys': False, 'VR_only': True, 'scanner': 'NLW', 'tunnel_data': True}\n",
      "True\n",
      "social_unrestrict_fam\n",
      "Fixing teleports\n",
      "{'date': '03_10_2024', 'scene': 'social_wheel_restrict', 'session': 1, 'scan': 1, 'exp_day': 2, 'mouse': 'social-0914-1', 'vr_filename': 'C:/Users/esay/data/social_interaction/VRData\\\\social-0914-1\\\\03_10_2024\\\\social_wheel_restrict_1.sqlite', 'scan_number': 1, 'prompt_for_keys': False, 'VR_only': True, 'scanner': 'NLW', 'fixed_wheel': True, 'tunnel_data': True}\n",
      "True\n",
      "social_wheel_restrict\n",
      "{'date': '04_10_2024', 'scene': 'Env1_to_Env2_fixreward', 'session': 1, 'scan': 1, 'exp_day': 3, 'mouse': 'social-0914-1', 'vr_filename': 'C:/Users/esay/data/social_interaction/VRData\\\\social-0914-1\\\\04_10_2024\\\\Env1_to_Env2_fixreward_1.sqlite', 'scan_number': 1, 'prompt_for_keys': False, 'VR_only': True, 'scanner': 'NLW'}\n",
      "social-0914-1 {'date': '04_10_2024', 'scene': 'Env1_to_Env2_fixreward', 'session': 1, 'scan': 1, 'exp_day': 3, 'mouse': 'social-0914-1', 'vr_filename': 'C:/Users/esay/data/social_interaction/VRData\\\\social-0914-1\\\\04_10_2024\\\\Env1_to_Env2_fixreward_1.sqlite', 'scan_number': 1, 'prompt_for_keys': False, 'VR_only': True, 'scanner': 'NLW'}\n",
      "Fixing teleports\n",
      "0\n",
      "0\n",
      "0\n",
      "0\n",
      "{'date': '04_10_2024', 'scene': 'social_restrict_fam', 'session': 1, 'scan': 1, 'exp_day': 3, 'mouse': 'social-0914-1', 'vr_filename': 'C:/Users/esay/data/social_interaction/VRData\\\\social-0914-1\\\\04_10_2024\\\\social_restrict_fam_1.sqlite', 'scan_number': 1, 'prompt_for_keys': False, 'VR_only': True, 'scanner': 'NLW', 'tunnel_data': True}\n",
      "True\n",
      "social_restrict_fam\n",
      "Fixing teleports\n",
      "{'date': '04_10_2024', 'scene': 'social_restrict_nov', 'session': 1, 'scan': 1, 'exp_day': 3, 'mouse': 'social-0914-1', 'vr_filename': 'C:/Users/esay/data/social_interaction/VRData\\\\social-0914-1\\\\04_10_2024\\\\social_restrict_nov_1.sqlite', 'scan_number': 1, 'prompt_for_keys': False, 'VR_only': True, 'scanner': 'NLW', 'tunnel_data': True}\n",
      "True\n",
      "social_restrict_nov\n",
      "Fixing teleports\n",
      "{'date': '04_10_2024', 'scene': 'social_unrestrict_nov', 'session': 1, 'scan': 1, 'exp_day': 3, 'mouse': 'social-0914-1', 'vr_filename': 'C:/Users/esay/data/social_interaction/VRData\\\\social-0914-1\\\\04_10_2024\\\\social_unrestrict_nov_1.sqlite', 'scan_number': 1, 'prompt_for_keys': False, 'VR_only': True, 'scanner': 'NLW', 'tunnel_data': True}\n",
      "True\n",
      "social_unrestrict_nov\n",
      "Fixing teleports\n",
      "{'date': '04_10_2024', 'scene': 'social_wheel_restrict', 'session': 1, 'scan': 1, 'exp_day': 3, 'mouse': 'social-0914-1', 'vr_filename': 'C:/Users/esay/data/social_interaction/VRData\\\\social-0914-1\\\\04_10_2024\\\\social_wheel_restrict_1.sqlite', 'scan_number': 1, 'prompt_for_keys': False, 'VR_only': True, 'scanner': 'NLW', 'fixed_wheel': True, 'tunnel_data': True}\n",
      "True\n",
      "social_wheel_restrict\n",
      "{'date': '05_10_2024', 'scene': 'Env1_to_Env2_fixreward', 'session': 1, 'scan': 1, 'exp_day': 4, 'mouse': 'social-0914-1', 'vr_filename': 'C:/Users/esay/data/social_interaction/VRData\\\\social-0914-1\\\\05_10_2024\\\\Env1_to_Env2_fixreward_1.sqlite', 'scan_number': 1, 'prompt_for_keys': False, 'VR_only': True, 'scanner': 'NLW'}\n",
      "social-0914-1 {'date': '05_10_2024', 'scene': 'Env1_to_Env2_fixreward', 'session': 1, 'scan': 1, 'exp_day': 4, 'mouse': 'social-0914-1', 'vr_filename': 'C:/Users/esay/data/social_interaction/VRData\\\\social-0914-1\\\\05_10_2024\\\\Env1_to_Env2_fixreward_1.sqlite', 'scan_number': 1, 'prompt_for_keys': False, 'VR_only': True, 'scanner': 'NLW'}\n",
      "Fixing teleports\n",
      "0\n",
      "0\n",
      "0\n",
      "0\n",
      "{'date': '05_10_2024', 'scene': 'social_unrestrict_fam', 'session': 1, 'scan': 1, 'exp_day': 4, 'mouse': 'social-0914-1', 'vr_filename': 'C:/Users/esay/data/social_interaction/VRData\\\\social-0914-1\\\\05_10_2024\\\\social_unrestrict_fam_1.sqlite', 'scan_number': 1, 'prompt_for_keys': False, 'VR_only': True, 'scanner': 'NLW', 'tunnel_data': True}\n",
      "True\n",
      "social_unrestrict_fam\n",
      "Fixing teleports\n",
      "{'date': '05_10_2024', 'scene': 'social_unrestrict_nov', 'session': 1, 'scan': 1, 'exp_day': 4, 'mouse': 'social-0914-1', 'vr_filename': 'C:/Users/esay/data/social_interaction/VRData\\\\social-0914-1\\\\05_10_2024\\\\social_unrestrict_nov_1.sqlite', 'scan_number': 1, 'prompt_for_keys': False, 'VR_only': True, 'scanner': 'NLW', 'tunnel_data': True}\n",
      "True\n",
      "social_unrestrict_nov\n",
      "Fixing teleports\n",
      "{'date': '06_10_2024', 'scene': 'Env1_to_Env2_fixreward', 'session': 1, 'scan': 1, 'exp_day': 5, 'mouse': 'social-0914-1', 'vr_filename': 'C:/Users/esay/data/social_interaction/VRData\\\\social-0914-1\\\\06_10_2024\\\\Env1_to_Env2_fixreward_1.sqlite', 'scan_number': 1, 'prompt_for_keys': False, 'VR_only': True, 'scanner': 'NLW'}\n",
      "social-0914-1 {'date': '06_10_2024', 'scene': 'Env1_to_Env2_fixreward', 'session': 1, 'scan': 1, 'exp_day': 5, 'mouse': 'social-0914-1', 'vr_filename': 'C:/Users/esay/data/social_interaction/VRData\\\\social-0914-1\\\\06_10_2024\\\\Env1_to_Env2_fixreward_1.sqlite', 'scan_number': 1, 'prompt_for_keys': False, 'VR_only': True, 'scanner': 'NLW'}\n",
      "Fixing teleports\n",
      "0\n",
      "0\n",
      "0\n",
      "0\n",
      "{'date': '06_10_2024', 'scene': 'social_restrict_nov_diffsex', 'session': 1, 'scan': 1, 'exp_day': 5, 'mouse': 'social-0914-1', 'vr_filename': 'C:/Users/esay/data/social_interaction/VRData\\\\social-0914-1\\\\06_10_2024\\\\social_restrict_nov_diffsex_1.sqlite', 'scan_number': 1, 'prompt_for_keys': False, 'VR_only': True, 'scanner': 'NLW', 'tunnel_data': True}\n",
      "True\n",
      "social_restrict_nov_diffsex\n",
      "Fixing teleports\n",
      "{'date': '06_10_2024', 'scene': 'social_unrestrict_nov', 'session': 2, 'scan': 1, 'exp_day': 5, 'mouse': 'social-0914-1', 'vr_filename': 'C:/Users/esay/data/social_interaction/VRData\\\\social-0914-1\\\\06_10_2024\\\\social_unrestrict_nov_2.sqlite', 'scan_number': 1, 'prompt_for_keys': False, 'VR_only': True, 'scanner': 'NLW', 'tunnel_data': True}\n",
      "True\n",
      "social_unrestrict_nov\n",
      "Fixing teleports\n",
      "{'date': '06_10_2024', 'scene': 'social_unrestrict_nov_diffsex', 'session': 1, 'scan': 1, 'exp_day': 5, 'mouse': 'social-0914-1', 'vr_filename': 'C:/Users/esay/data/social_interaction/VRData\\\\social-0914-1\\\\06_10_2024\\\\social_unrestrict_nov_diffsex_1.sqlite', 'scan_number': 1, 'prompt_for_keys': False, 'VR_only': True, 'scanner': 'NLW', 'tunnel_data': True}\n",
      "True\n",
      "social_unrestrict_nov_diffsex\n",
      "Fixing teleports\n",
      "{'date': '06_10_2024', 'scene': 'social_wheel_restrict', 'session': 1, 'scan': 1, 'exp_day': 5, 'mouse': 'social-0914-1', 'vr_filename': 'C:/Users/esay/data/social_interaction/VRData\\\\social-0914-1\\\\06_10_2024\\\\social_wheel_restrict_1.sqlite', 'scan_number': 1, 'prompt_for_keys': False, 'VR_only': True, 'scanner': 'NLW', 'fixed_wheel': True, 'tunnel_data': True}\n",
      "True\n",
      "social_wheel_restrict\n",
      "social-0914-4\n",
      "{'date': '03_10_2024', 'scene': 'Env1_to_Env2_fixreward', 'session': 1, 'scan': 1, 'exp_day': 2, 'mouse': 'social-0914-4', 'vr_filename': 'C:/Users/esay/data/social_interaction/VRData\\\\social-0914-4\\\\03_10_2024\\\\Env1_to_Env2_fixreward_1.sqlite', 'scan_number': 1, 'prompt_for_keys': False, 'VR_only': True, 'scanner': 'NLW'}\n",
      "social-0914-4 {'date': '03_10_2024', 'scene': 'Env1_to_Env2_fixreward', 'session': 1, 'scan': 1, 'exp_day': 2, 'mouse': 'social-0914-4', 'vr_filename': 'C:/Users/esay/data/social_interaction/VRData\\\\social-0914-4\\\\03_10_2024\\\\Env1_to_Env2_fixreward_1.sqlite', 'scan_number': 1, 'prompt_for_keys': False, 'VR_only': True, 'scanner': 'NLW'}\n",
      "Fixing teleports\n",
      "0\n",
      "0\n",
      "0\n",
      "0\n",
      "{'date': '03_10_2024', 'scene': 'social_emptytunnel', 'session': 1, 'scan': 1, 'exp_day': 1, 'mouse': 'social-0914-4', 'vr_filename': 'C:/Users/esay/data/social_interaction/VRData\\\\social-0914-4\\\\03_10_2024\\\\social_emptytunnel_1.sqlite', 'scan_number': 1, 'prompt_for_keys': False, 'VR_only': True, 'scanner': 'NLW', 'tunnel_data': False}\n",
      "True\n",
      "social_emptytunnel\n",
      "social_emptytunnel\n",
      "Fixing teleports\n",
      "{'date': '03_10_2024', 'scene': 'social_restrict_fam', 'session': 1, 'scan': 1, 'exp_day': 1, 'mouse': 'social-0914-4', 'vr_filename': 'C:/Users/esay/data/social_interaction/VRData\\\\social-0914-4\\\\03_10_2024\\\\social_restrict_fam_1.sqlite', 'scan_number': 1, 'prompt_for_keys': False, 'VR_only': True, 'scanner': 'NLW', 'tunnel_data': True}\n",
      "True\n",
      "social_restrict_fam\n",
      "Fixing teleports\n",
      "{'date': '03_10_2024', 'scene': 'social_unrestrict_fam', 'session': 1, 'scan': 1, 'exp_day': 1, 'mouse': 'social-0914-4', 'vr_filename': 'C:/Users/esay/data/social_interaction/VRData\\\\social-0914-4\\\\03_10_2024\\\\social_unrestrict_fam_1.sqlite', 'scan_number': 1, 'prompt_for_keys': False, 'VR_only': True, 'scanner': 'NLW', 'tunnel_data': True}\n",
      "True\n",
      "social_unrestrict_fam\n",
      "Fixing teleports\n",
      "{'date': '03_10_2024', 'scene': 'social_wheel_restrict', 'session': 1, 'scan': 1, 'exp_day': 1, 'mouse': 'social-0914-4', 'vr_filename': 'C:/Users/esay/data/social_interaction/VRData\\\\social-0914-4\\\\03_10_2024\\\\social_wheel_restrict_1.sqlite', 'scan_number': 1, 'prompt_for_keys': False, 'VR_only': True, 'scanner': 'NLW', 'fixed_wheel': True, 'tunnel_data': True}\n",
      "True\n",
      "social_wheel_restrict\n",
      "{'date': '04_10_2024', 'scene': 'Env1_to_Env2_fixreward', 'session': 1, 'scan': 1, 'exp_day': 2, 'mouse': 'social-0914-4', 'vr_filename': 'C:/Users/esay/data/social_interaction/VRData\\\\social-0914-4\\\\04_10_2024\\\\Env1_to_Env2_fixreward_1.sqlite', 'scan_number': 1, 'prompt_for_keys': False, 'VR_only': True, 'scanner': 'NLW'}\n",
      "social-0914-4 {'date': '04_10_2024', 'scene': 'Env1_to_Env2_fixreward', 'session': 1, 'scan': 1, 'exp_day': 2, 'mouse': 'social-0914-4', 'vr_filename': 'C:/Users/esay/data/social_interaction/VRData\\\\social-0914-4\\\\04_10_2024\\\\Env1_to_Env2_fixreward_1.sqlite', 'scan_number': 1, 'prompt_for_keys': False, 'VR_only': True, 'scanner': 'NLW'}\n",
      "Fixing teleports\n",
      "0\n",
      "0\n",
      "0\n",
      "0\n",
      "{'date': '04_10_2024', 'scene': 'social_restrict_fam', 'session': 1, 'scan': 1, 'exp_day': 2, 'mouse': 'social-0914-4', 'vr_filename': 'C:/Users/esay/data/social_interaction/VRData\\\\social-0914-4\\\\04_10_2024\\\\social_restrict_fam_1.sqlite', 'scan_number': 1, 'prompt_for_keys': False, 'VR_only': True, 'scanner': 'NLW', 'tunnel_data': True}\n",
      "True\n",
      "social_restrict_fam\n",
      "Fixing teleports\n",
      "{'date': '04_10_2024', 'scene': 'social_restrict_nov', 'session': 1, 'scan': 1, 'exp_day': 2, 'mouse': 'social-0914-4', 'vr_filename': 'C:/Users/esay/data/social_interaction/VRData\\\\social-0914-4\\\\04_10_2024\\\\social_restrict_nov_1.sqlite', 'scan_number': 1, 'prompt_for_keys': False, 'VR_only': True, 'scanner': 'NLW', 'tunnel_data': True}\n",
      "True\n",
      "social_restrict_nov\n",
      "Fixing teleports\n",
      "{'date': '04_10_2024', 'scene': 'social_unrestrict_fam', 'session': 1, 'scan': 1, 'exp_day': 2, 'mouse': 'social-0914-4', 'vr_filename': 'C:/Users/esay/data/social_interaction/VRData\\\\social-0914-4\\\\04_10_2024\\\\social_unrestrict_fam_1.sqlite', 'scan_number': 1, 'prompt_for_keys': False, 'VR_only': True, 'scanner': 'NLW', 'tunnel_data': True}\n",
      "True\n",
      "social_unrestrict_fam\n",
      "Fixing teleports\n",
      "{'date': '04_10_2024', 'scene': 'social_unrestrict_nov', 'session': 1, 'scan': 1, 'exp_day': 2, 'mouse': 'social-0914-4', 'vr_filename': 'C:/Users/esay/data/social_interaction/VRData\\\\social-0914-4\\\\04_10_2024\\\\social_unrestrict_nov_1.sqlite', 'scan_number': 1, 'prompt_for_keys': False, 'VR_only': True, 'scanner': 'NLW', 'tunnel_data': True}\n",
      "True\n",
      "social_unrestrict_nov\n",
      "Fixing teleports\n",
      "{'date': '04_10_2024', 'scene': 'social_wheel_restrict', 'session': 1, 'scan': 1, 'exp_day': 2, 'mouse': 'social-0914-4', 'vr_filename': 'C:/Users/esay/data/social_interaction/VRData\\\\social-0914-4\\\\04_10_2024\\\\social_wheel_restrict_1.sqlite', 'scan_number': 1, 'prompt_for_keys': False, 'VR_only': True, 'scanner': 'NLW', 'fixed_wheel': True, 'tunnel_data': True}\n",
      "True\n",
      "social_wheel_restrict\n",
      "{'date': '05_10_2024', 'scene': 'Env1_to_Env2_fixreward', 'session': 1, 'scan': 1, 'exp_day': 3, 'mouse': 'social-0914-4', 'vr_filename': 'C:/Users/esay/data/social_interaction/VRData\\\\social-0914-4\\\\05_10_2024\\\\Env1_to_Env2_fixreward_1.sqlite', 'scan_number': 1, 'prompt_for_keys': False, 'VR_only': True, 'scanner': 'NLW'}\n",
      "social-0914-4 {'date': '05_10_2024', 'scene': 'Env1_to_Env2_fixreward', 'session': 1, 'scan': 1, 'exp_day': 3, 'mouse': 'social-0914-4', 'vr_filename': 'C:/Users/esay/data/social_interaction/VRData\\\\social-0914-4\\\\05_10_2024\\\\Env1_to_Env2_fixreward_1.sqlite', 'scan_number': 1, 'prompt_for_keys': False, 'VR_only': True, 'scanner': 'NLW'}\n",
      "Fixing teleports\n",
      "0\n",
      "0\n",
      "0\n",
      "0\n",
      "{'date': '05_10_2024', 'scene': 'social_unrestrict_fam', 'session': 1, 'scan': 1, 'exp_day': 3, 'mouse': 'social-0914-4', 'vr_filename': 'C:/Users/esay/data/social_interaction/VRData\\\\social-0914-4\\\\05_10_2024\\\\social_unrestrict_fam_1.sqlite', 'scan_number': 1, 'prompt_for_keys': False, 'VR_only': True, 'scanner': 'NLW', 'tunnel_data': True}\n",
      "True\n",
      "social_unrestrict_fam\n",
      "Fixing teleports\n",
      "{'date': '05_10_2024', 'scene': 'social_unrestrict_nov', 'session': 1, 'scan': 1, 'exp_day': 3, 'mouse': 'social-0914-4', 'vr_filename': 'C:/Users/esay/data/social_interaction/VRData\\\\social-0914-4\\\\05_10_2024\\\\social_unrestrict_nov_1.sqlite', 'scan_number': 1, 'prompt_for_keys': False, 'VR_only': True, 'scanner': 'NLW', 'tunnel_data': True}\n",
      "True\n",
      "social_unrestrict_nov\n",
      "Fixing teleports\n",
      "{'date': '06_10_2024', 'scene': 'Env1_to_Env2_fixreward', 'session': 1, 'scan': 1, 'exp_day': 4, 'mouse': 'social-0914-4', 'vr_filename': 'C:/Users/esay/data/social_interaction/VRData\\\\social-0914-4\\\\06_10_2024\\\\Env1_to_Env2_fixreward_1.sqlite', 'scan_number': 1, 'prompt_for_keys': False, 'VR_only': True, 'scanner': 'NLW'}\n",
      "social-0914-4 {'date': '06_10_2024', 'scene': 'Env1_to_Env2_fixreward', 'session': 1, 'scan': 1, 'exp_day': 4, 'mouse': 'social-0914-4', 'vr_filename': 'C:/Users/esay/data/social_interaction/VRData\\\\social-0914-4\\\\06_10_2024\\\\Env1_to_Env2_fixreward_1.sqlite', 'scan_number': 1, 'prompt_for_keys': False, 'VR_only': True, 'scanner': 'NLW'}\n",
      "Fixing teleports\n",
      "0\n",
      "0\n",
      "0\n",
      "0\n",
      "{'date': '06_10_2024', 'scene': 'social_restrict_nov_diffsex', 'session': 1, 'scan': 1, 'exp_day': 4, 'mouse': 'social-0914-4', 'vr_filename': 'C:/Users/esay/data/social_interaction/VRData\\\\social-0914-4\\\\06_10_2024\\\\social_restrict_nov_diffsex_1.sqlite', 'scan_number': 1, 'prompt_for_keys': False, 'VR_only': True, 'scanner': 'NLW', 'tunnel_data': True}\n",
      "True\n",
      "social_restrict_nov_diffsex\n",
      "Fixing teleports\n",
      "{'date': '06_10_2024', 'scene': 'social_unrestrict_nov', 'session': 1, 'scan': 1, 'exp_day': 4, 'mouse': 'social-0914-4', 'vr_filename': 'C:/Users/esay/data/social_interaction/VRData\\\\social-0914-4\\\\06_10_2024\\\\social_unrestrict_nov_1.sqlite', 'scan_number': 1, 'prompt_for_keys': False, 'VR_only': True, 'scanner': 'NLW', 'tunnel_data': True}\n",
      "True\n",
      "social_unrestrict_nov\n",
      "Fixing teleports\n",
      "{'date': '06_10_2024', 'scene': 'social_unrestrict_nov_diffsex', 'session': 1, 'scan': 1, 'exp_day': 4, 'mouse': 'social-0914-4', 'vr_filename': 'C:/Users/esay/data/social_interaction/VRData\\\\social-0914-4\\\\06_10_2024\\\\social_unrestrict_nov_diffsex_1.sqlite', 'scan_number': 1, 'prompt_for_keys': False, 'VR_only': True, 'scanner': 'NLW', 'tunnel_data': True}\n",
      "True\n",
      "social_unrestrict_nov_diffsex\n",
      "Fixing teleports\n",
      "{'date': '06_10_2024', 'scene': 'social_wheel_restrict', 'session': 1, 'scan': 1, 'exp_day': 4, 'mouse': 'social-0914-4', 'vr_filename': 'C:/Users/esay/data/social_interaction/VRData\\\\social-0914-4\\\\06_10_2024\\\\social_wheel_restrict_1.sqlite', 'scan_number': 1, 'prompt_for_keys': False, 'VR_only': True, 'scanner': 'NLW', 'fixed_wheel': True, 'tunnel_data': True}\n",
      "True\n",
      "social_wheel_restrict\n",
      "social-0921-2\n",
      "{'date': '03_10_2024', 'scene': 'social_emptytunnel', 'session': 1, 'scan': 1, 'exp_day': 1, 'mouse': 'social-0921-2', 'vr_filename': 'C:/Users/esay/data/social_interaction/VRData\\\\social-0921-2\\\\03_10_2024\\\\social_emptytunnel_1.sqlite', 'scan_number': 1, 'prompt_for_keys': False, 'VR_only': True, 'scanner': 'NLW', 'tunnel_data': False}\n",
      "True\n",
      "social_emptytunnel\n",
      "social_emptytunnel\n",
      "Fixing teleports\n",
      "{'date': '03_10_2024', 'scene': 'social_restrict_fam', 'session': 1, 'scan': 1, 'exp_day': 1, 'mouse': 'social-0921-2', 'vr_filename': 'C:/Users/esay/data/social_interaction/VRData\\\\social-0921-2\\\\03_10_2024\\\\social_restrict_fam_1.sqlite', 'scan_number': 1, 'prompt_for_keys': False, 'VR_only': True, 'scanner': 'NLW', 'tunnel_data': True}\n",
      "True\n",
      "social_restrict_fam\n",
      "Fixing teleports\n",
      "{'date': '03_10_2024', 'scene': 'social_unrestrict_fam', 'session': 1, 'scan': 1, 'exp_day': 1, 'mouse': 'social-0921-2', 'vr_filename': 'C:/Users/esay/data/social_interaction/VRData\\\\social-0921-2\\\\03_10_2024\\\\social_unrestrict_fam_1.sqlite', 'scan_number': 1, 'prompt_for_keys': False, 'VR_only': True, 'scanner': 'NLW', 'tunnel_data': True}\n",
      "True\n",
      "social_unrestrict_fam\n",
      "Fixing teleports\n",
      "{'date': '03_10_2024', 'scene': 'social_wheel_restrict', 'session': 1, 'scan': 1, 'exp_day': 1, 'mouse': 'social-0921-2', 'vr_filename': 'C:/Users/esay/data/social_interaction/VRData\\\\social-0921-2\\\\03_10_2024\\\\social_wheel_restrict_1.sqlite', 'scan_number': 1, 'prompt_for_keys': False, 'VR_only': True, 'scanner': 'NLW', 'fixed_wheel': True, 'tunnel_data': True}\n",
      "True\n",
      "social_wheel_restrict\n",
      "{'date': '04_10_2024', 'scene': 'social_restrict_fam', 'session': 1, 'scan': 1, 'exp_day': 2, 'mouse': 'social-0921-2', 'vr_filename': 'C:/Users/esay/data/social_interaction/VRData\\\\social-0921-2\\\\04_10_2024\\\\social_restrict_fam_1.sqlite', 'scan_number': 1, 'prompt_for_keys': False, 'VR_only': True, 'scanner': 'NLW', 'tunnel_data': True}\n",
      "True\n",
      "social_restrict_fam\n",
      "Fixing teleports\n",
      "{'date': '04_10_2024', 'scene': 'social_restrict_nov', 'session': 1, 'scan': 1, 'exp_day': 2, 'mouse': 'social-0921-2', 'vr_filename': 'C:/Users/esay/data/social_interaction/VRData\\\\social-0921-2\\\\04_10_2024\\\\social_restrict_nov_1.sqlite', 'scan_number': 1, 'prompt_for_keys': False, 'VR_only': True, 'scanner': 'NLW', 'tunnel_data': True}\n",
      "True\n",
      "social_restrict_nov\n",
      "Fixing teleports\n",
      "{'date': '04_10_2024', 'scene': 'social_unrestrict_fam', 'session': 1, 'scan': 1, 'exp_day': 2, 'mouse': 'social-0921-2', 'vr_filename': 'C:/Users/esay/data/social_interaction/VRData\\\\social-0921-2\\\\04_10_2024\\\\social_unrestrict_fam_1.sqlite', 'scan_number': 1, 'prompt_for_keys': False, 'VR_only': True, 'scanner': 'NLW', 'tunnel_data': True}\n",
      "True\n",
      "social_unrestrict_fam\n",
      "Fixing teleports\n",
      "{'date': '04_10_2024', 'scene': 'social_unrestrict_nov', 'session': 1, 'scan': 1, 'exp_day': 2, 'mouse': 'social-0921-2', 'vr_filename': 'C:/Users/esay/data/social_interaction/VRData\\\\social-0921-2\\\\04_10_2024\\\\social_unrestrict_nov_1.sqlite', 'scan_number': 1, 'prompt_for_keys': False, 'VR_only': True, 'scanner': 'NLW', 'tunnel_data': True}\n",
      "True\n",
      "social_unrestrict_nov\n",
      "Fixing teleports\n",
      "{'date': '04_10_2024', 'scene': 'social_wheel_restrict', 'session': 1, 'scan': 1, 'exp_day': 2, 'mouse': 'social-0921-2', 'vr_filename': 'C:/Users/esay/data/social_interaction/VRData\\\\social-0921-2\\\\04_10_2024\\\\social_wheel_restrict_1.sqlite', 'scan_number': 1, 'prompt_for_keys': False, 'VR_only': True, 'scanner': 'NLW', 'fixed_wheel': True, 'tunnel_data': True}\n",
      "True\n",
      "social_wheel_restrict\n",
      "{'date': '05_10_2024', 'scene': 'social_unrestrict_fam', 'session': 1, 'scan': 1, 'exp_day': 3, 'mouse': 'social-0921-2', 'vr_filename': 'C:/Users/esay/data/social_interaction/VRData\\\\social-0921-2\\\\05_10_2024\\\\social_unrestrict_fam_1.sqlite', 'scan_number': 1, 'prompt_for_keys': False, 'VR_only': True, 'scanner': 'NLW', 'tunnel_data': True}\n",
      "True\n",
      "social_unrestrict_fam\n",
      "Fixing teleports\n",
      "{'date': '05_10_2024', 'scene': 'social_unrestrict_nov', 'session': 1, 'scan': 1, 'exp_day': 3, 'mouse': 'social-0921-2', 'vr_filename': 'C:/Users/esay/data/social_interaction/VRData\\\\social-0921-2\\\\05_10_2024\\\\social_unrestrict_nov_1.sqlite', 'scan_number': 1, 'prompt_for_keys': False, 'VR_only': True, 'scanner': 'NLW', 'tunnel_data': True}\n",
      "True\n",
      "social_unrestrict_nov\n",
      "Fixing teleports\n",
      "{'date': '06_10_2024', 'scene': 'social_restrict_nov_diffsex', 'session': 1, 'scan': 1, 'exp_day': 4, 'mouse': 'social-0921-2', 'vr_filename': 'C:/Users/esay/data/social_interaction/VRData\\\\social-0921-2\\\\06_10_2024\\\\social_restrict_nov_diffsex_1.sqlite', 'scan_number': 1, 'prompt_for_keys': False, 'VR_only': True, 'scanner': 'NLW', 'tunnel_data': True}\n",
      "True\n",
      "social_restrict_nov_diffsex\n",
      "Fixing teleports\n",
      "{'date': '06_10_2024', 'scene': 'social_unrestrict_nov', 'session': 1, 'scan': 1, 'exp_day': 4, 'mouse': 'social-0921-2', 'vr_filename': 'C:/Users/esay/data/social_interaction/VRData\\\\social-0921-2\\\\06_10_2024\\\\social_unrestrict_nov_1.sqlite', 'scan_number': 1, 'prompt_for_keys': False, 'VR_only': True, 'scanner': 'NLW', 'tunnel_data': True}\n",
      "True\n",
      "social_unrestrict_nov\n",
      "Fixing teleports\n",
      "{'date': '06_10_2024', 'scene': 'social_unrestrict_nov_diffsex', 'session': 1, 'scan': 1, 'exp_day': 4, 'mouse': 'social-0921-2', 'vr_filename': 'C:/Users/esay/data/social_interaction/VRData\\\\social-0921-2\\\\06_10_2024\\\\social_unrestrict_nov_diffsex_1.sqlite', 'scan_number': 1, 'prompt_for_keys': False, 'VR_only': True, 'scanner': 'NLW', 'tunnel_data': True}\n",
      "True\n",
      "social_unrestrict_nov_diffsex\n",
      "Fixing teleports\n",
      "{'date': '06_10_2024', 'scene': 'social_wheel_restrict', 'session': 1, 'scan': 1, 'exp_day': 4, 'mouse': 'social-0921-2', 'vr_filename': 'C:/Users/esay/data/social_interaction/VRData\\\\social-0921-2\\\\06_10_2024\\\\social_wheel_restrict_1.sqlite', 'scan_number': 1, 'prompt_for_keys': False, 'VR_only': True, 'scanner': 'NLW', 'fixed_wheel': True, 'tunnel_data': True}\n",
      "True\n",
      "social_wheel_restrict\n"
     ]
    }
   ],
   "source": [
    "d = social_int_behavior;\n",
    "for mouse, values in d.items():\n",
    "    print(mouse)\n",
    "    # print(values)\n",
    "    for deets in values:\n",
    "        print(deets)\n",
    "        if 'social' in deets['scene']:\n",
    "            print(True)\n",
    "            f_ = u.update_sess_dict(mouse,deets)\n",
    "        \n",
    "            # print(mouse, f_)\n",
    "            _ = u.run_and_save(f_, social = True)\n",
    "            # print(comb_frames+sess.vr_data.shape[0])\n",
    "        else:\n",
    "            f_ = u.update_sess_dict(mouse,deets)\n",
    "            print(mouse, f_)\n",
    "            _ = u.run_and_save(f_, social = False)\n",
    "            # print( comb_frames+sess.vr_data.shape[0])\n",
    "            "
   ]
  },
  {
   "cell_type": "markdown",
   "id": "9e7a15ec-20fe-4e14-bd30-35785f632726",
   "metadata": {},
   "source": [
    "### add preprocessed sleap h5 files to Session file"
   ]
  },
  {
   "cell_type": "code",
   "execution_count": 98,
   "id": "9d3d039d-613b-4ee8-839c-0e790536d4e5",
   "metadata": {
    "scrolled": true
   },
   "outputs": [
    {
     "name": "stdout",
     "output_type": "stream",
     "text": [
      "{'date': '03_10_2024', 'scene': 'social_emptytunnel', 'session': 1, 'scan': 1, 'exp_day': 1}\n",
      "C:/Users/esay/data/social_interaction/SLEAPData\\social-0921-2\\03_10_2024\\social_emptytunnel.h5\n",
      "No SLEAP file for empty tunnel\n",
      "{'date': '03_10_2024', 'scene': 'social_restrict_fam', 'session': 1, 'scan': 1, 'exp_day': 1}\n",
      "C:/Users/esay/data/social_interaction/SLEAPData\\social-0921-2\\03_10_2024\\social_restrict_fam.h5\n",
      "===filename===\n",
      "C:/Users/esay/data/social_interaction/SLEAPData\\social-0921-2\\03_10_2024\\social_restrict_fam.h5\n",
      "\n",
      "===HDF5 datasets===\n",
      "['edge_inds', 'edge_names', 'instance_scores', 'labels_path', 'node_names', 'point_scores', 'provenance', 'track_names', 'track_occupancy', 'tracking_scores', 'tracks', 'video_ind', 'video_path']\n",
      "\n",
      "Padding locations. New shape: (20658, 6, 2, 1)\n",
      "dict_keys(['locations', 'head_velocity', 'interaction', 'rightear_x', 'rightear_y', 'tailbase_x', 'tailbase_y', 'nose_x', 'nose_y', 'head_x', 'head_y', 'leftear_x', 'leftear_y', 'torso_x', 'torso_y'])\n",
      "{'date': '03_10_2024', 'scene': 'social_unrestrict_fam', 'session': 1, 'scan': 1, 'exp_day': 1}\n",
      "C:/Users/esay/data/social_interaction/SLEAPData\\social-0921-2\\03_10_2024\\social_unrestrict_fam.h5\n",
      "===filename===\n",
      "C:/Users/esay/data/social_interaction/SLEAPData\\social-0921-2\\03_10_2024\\social_unrestrict_fam.h5\n",
      "\n",
      "===HDF5 datasets===\n",
      "['edge_inds', 'edge_names', 'instance_scores', 'labels_path', 'node_names', 'point_scores', 'provenance', 'track_names', 'track_occupancy', 'tracking_scores', 'tracks', 'video_ind', 'video_path']\n",
      "\n",
      "Padding locations. New shape: (39096, 6, 2, 1)\n",
      "dict_keys(['locations', 'head_velocity', 'interaction', 'rightear_x', 'rightear_y', 'tailbase_x', 'tailbase_y', 'nose_x', 'nose_y', 'head_x', 'head_y', 'leftear_x', 'leftear_y', 'torso_x', 'torso_y'])\n",
      "{'date': '03_10_2024', 'scene': 'social_wheel_restrict', 'session': 1, 'scan': 1, 'exp_day': 1}\n",
      "C:/Users/esay/data/social_interaction/SLEAPData\\social-0921-2\\03_10_2024\\social_wheel_restrict.h5\n",
      "===filename===\n",
      "C:/Users/esay/data/social_interaction/SLEAPData\\social-0921-2\\03_10_2024\\social_wheel_restrict.h5\n",
      "\n",
      "===HDF5 datasets===\n",
      "['edge_inds', 'edge_names', 'instance_scores', 'labels_path', 'node_names', 'point_scores', 'provenance', 'track_names', 'track_occupancy', 'tracking_scores', 'tracks', 'video_ind', 'video_path']\n",
      "\n",
      "Padding locations. New shape: (22279, 6, 2, 1)\n",
      "dict_keys(['locations', 'head_velocity', 'interaction', 'rightear_x', 'rightear_y', 'tailbase_x', 'tailbase_y', 'nose_x', 'nose_y', 'head_x', 'head_y', 'leftear_x', 'leftear_y', 'torso_x', 'torso_y'])\n",
      "{'date': '04_10_2024', 'scene': 'social_restrict_fam', 'session': 1, 'scan': 1, 'exp_day': 2}\n",
      "C:/Users/esay/data/social_interaction/SLEAPData\\social-0921-2\\04_10_2024\\social_restrict_fam.h5\n",
      "===filename===\n",
      "C:/Users/esay/data/social_interaction/SLEAPData\\social-0921-2\\04_10_2024\\social_restrict_fam.h5\n",
      "\n",
      "===HDF5 datasets===\n",
      "['edge_inds', 'edge_names', 'instance_scores', 'labels_path', 'node_names', 'point_scores', 'provenance', 'track_names', 'track_occupancy', 'tracking_scores', 'tracks', 'video_ind', 'video_path']\n",
      "\n",
      "Padding locations. New shape: (24848, 6, 2, 1)\n",
      "dict_keys(['locations', 'head_velocity', 'interaction', 'rightear_x', 'rightear_y', 'tailbase_x', 'tailbase_y', 'nose_x', 'nose_y', 'head_x', 'head_y', 'leftear_x', 'leftear_y', 'torso_x', 'torso_y'])\n",
      "{'date': '04_10_2024', 'scene': 'social_restrict_nov', 'session': 1, 'scan': 1, 'exp_day': 2}\n",
      "C:/Users/esay/data/social_interaction/SLEAPData\\social-0921-2\\04_10_2024\\social_restrict_nov.h5\n",
      "===filename===\n",
      "C:/Users/esay/data/social_interaction/SLEAPData\\social-0921-2\\04_10_2024\\social_restrict_nov.h5\n",
      "\n",
      "===HDF5 datasets===\n",
      "['edge_inds', 'edge_names', 'instance_scores', 'labels_path', 'node_names', 'point_scores', 'provenance', 'track_names', 'track_occupancy', 'tracking_scores', 'tracks', 'video_ind', 'video_path']\n",
      "\n",
      "Padding locations. New shape: (21369, 6, 2, 1)\n",
      "dict_keys(['locations', 'head_velocity', 'interaction', 'rightear_x', 'rightear_y', 'tailbase_x', 'tailbase_y', 'nose_x', 'nose_y', 'head_x', 'head_y', 'leftear_x', 'leftear_y', 'torso_x', 'torso_y'])\n",
      "{'date': '04_10_2024', 'scene': 'social_unrestrict_fam', 'session': 1, 'scan': 1, 'exp_day': 2}\n",
      "C:/Users/esay/data/social_interaction/SLEAPData\\social-0921-2\\04_10_2024\\social_unrestrict_fam.h5\n",
      "===filename===\n",
      "C:/Users/esay/data/social_interaction/SLEAPData\\social-0921-2\\04_10_2024\\social_unrestrict_fam.h5\n",
      "\n",
      "===HDF5 datasets===\n",
      "['edge_inds', 'edge_names', 'instance_scores', 'labels_path', 'node_names', 'point_scores', 'provenance', 'track_names', 'track_occupancy', 'tracking_scores', 'tracks', 'video_ind', 'video_path']\n",
      "\n",
      "Padding locations. New shape: (37076, 6, 2, 1)\n",
      "dict_keys(['locations', 'head_velocity', 'interaction', 'rightear_x', 'rightear_y', 'tailbase_x', 'tailbase_y', 'nose_x', 'nose_y', 'head_x', 'head_y', 'leftear_x', 'leftear_y', 'torso_x', 'torso_y'])\n",
      "{'date': '04_10_2024', 'scene': 'social_unrestrict_nov', 'session': 1, 'scan': 1, 'exp_day': 2}\n",
      "C:/Users/esay/data/social_interaction/SLEAPData\\social-0921-2\\04_10_2024\\social_unrestrict_nov.h5\n",
      "===filename===\n",
      "C:/Users/esay/data/social_interaction/SLEAPData\\social-0921-2\\04_10_2024\\social_unrestrict_nov.h5\n",
      "\n",
      "===HDF5 datasets===\n",
      "['edge_inds', 'edge_names', 'instance_scores', 'labels_path', 'node_names', 'point_scores', 'provenance', 'track_names', 'track_occupancy', 'tracking_scores', 'tracks', 'video_ind', 'video_path']\n",
      "\n",
      "Padding locations. New shape: (37521, 6, 2, 1)\n",
      "dict_keys(['locations', 'head_velocity', 'interaction', 'rightear_x', 'rightear_y', 'tailbase_x', 'tailbase_y', 'nose_x', 'nose_y', 'head_x', 'head_y', 'leftear_x', 'leftear_y', 'torso_x', 'torso_y'])\n",
      "{'date': '04_10_2024', 'scene': 'social_wheel_restrict', 'session': 1, 'scan': 1, 'exp_day': 2}\n",
      "C:/Users/esay/data/social_interaction/SLEAPData\\social-0921-2\\04_10_2024\\social_wheel_restrict.h5\n",
      "===filename===\n",
      "C:/Users/esay/data/social_interaction/SLEAPData\\social-0921-2\\04_10_2024\\social_wheel_restrict.h5\n",
      "\n",
      "===HDF5 datasets===\n",
      "['edge_inds', 'edge_names', 'instance_scores', 'labels_path', 'node_names', 'point_scores', 'provenance', 'track_names', 'track_occupancy', 'tracking_scores', 'tracks', 'video_ind', 'video_path']\n",
      "\n",
      "Padding locations. New shape: (20789, 6, 2, 1)\n",
      "dict_keys(['locations', 'head_velocity', 'interaction', 'rightear_x', 'rightear_y', 'tailbase_x', 'tailbase_y', 'nose_x', 'nose_y', 'head_x', 'head_y', 'leftear_x', 'leftear_y', 'torso_x', 'torso_y'])\n",
      "{'date': '05_10_2024', 'scene': 'social_unrestrict_fam', 'session': 1, 'scan': 1, 'exp_day': 3}\n",
      "C:/Users/esay/data/social_interaction/SLEAPData\\social-0921-2\\05_10_2024\\social_unrestrict_fam.h5\n",
      "===filename===\n",
      "C:/Users/esay/data/social_interaction/SLEAPData\\social-0921-2\\05_10_2024\\social_unrestrict_fam.h5\n",
      "\n",
      "===HDF5 datasets===\n",
      "['edge_inds', 'edge_names', 'instance_scores', 'labels_path', 'node_names', 'point_scores', 'provenance', 'track_names', 'track_occupancy', 'tracking_scores', 'tracks', 'video_ind', 'video_path']\n",
      "\n",
      "Padding locations. New shape: (38450, 6, 2, 1)\n",
      "dict_keys(['locations', 'head_velocity', 'interaction', 'rightear_x', 'rightear_y', 'tailbase_x', 'tailbase_y', 'nose_x', 'nose_y', 'head_x', 'head_y', 'leftear_x', 'leftear_y', 'torso_x', 'torso_y'])\n",
      "{'date': '05_10_2024', 'scene': 'social_unrestrict_nov', 'session': 1, 'scan': 1, 'exp_day': 3}\n",
      "C:/Users/esay/data/social_interaction/SLEAPData\\social-0921-2\\05_10_2024\\social_unrestrict_nov.h5\n",
      "===filename===\n",
      "C:/Users/esay/data/social_interaction/SLEAPData\\social-0921-2\\05_10_2024\\social_unrestrict_nov.h5\n",
      "\n",
      "===HDF5 datasets===\n",
      "['edge_inds', 'edge_names', 'instance_scores', 'labels_path', 'node_names', 'point_scores', 'provenance', 'track_names', 'track_occupancy', 'tracking_scores', 'tracks', 'video_ind', 'video_path']\n",
      "\n",
      "Padding locations. New shape: (35202, 6, 2, 1)\n",
      "dict_keys(['locations', 'head_velocity', 'interaction', 'rightear_x', 'rightear_y', 'tailbase_x', 'tailbase_y', 'nose_x', 'nose_y', 'head_x', 'head_y', 'leftear_x', 'leftear_y', 'torso_x', 'torso_y'])\n",
      "{'date': '06_10_2024', 'scene': 'social_restrict_nov_diffsex', 'session': 1, 'scan': 1, 'exp_day': 4}\n",
      "C:/Users/esay/data/social_interaction/SLEAPData\\social-0921-2\\06_10_2024\\social_restrict_nov_diffsex.h5\n",
      "===filename===\n",
      "C:/Users/esay/data/social_interaction/SLEAPData\\social-0921-2\\06_10_2024\\social_restrict_nov_diffsex.h5\n",
      "\n",
      "===HDF5 datasets===\n",
      "['edge_inds', 'edge_names', 'instance_scores', 'labels_path', 'node_names', 'point_scores', 'provenance', 'track_names', 'track_occupancy', 'tracking_scores', 'tracks', 'video_ind', 'video_path']\n",
      "\n",
      "Padding locations. New shape: (20908, 6, 2, 1)\n",
      "dict_keys(['locations', 'head_velocity', 'interaction', 'rightear_x', 'rightear_y', 'tailbase_x', 'tailbase_y', 'nose_x', 'nose_y', 'head_x', 'head_y', 'leftear_x', 'leftear_y', 'torso_x', 'torso_y'])\n",
      "{'date': '06_10_2024', 'scene': 'social_unrestrict_nov', 'session': 1, 'scan': 1, 'exp_day': 4}\n",
      "C:/Users/esay/data/social_interaction/SLEAPData\\social-0921-2\\06_10_2024\\social_unrestrict_nov.h5\n",
      "===filename===\n",
      "C:/Users/esay/data/social_interaction/SLEAPData\\social-0921-2\\06_10_2024\\social_unrestrict_nov.h5\n",
      "\n",
      "===HDF5 datasets===\n",
      "['edge_inds', 'edge_names', 'instance_scores', 'labels_path', 'node_names', 'point_scores', 'provenance', 'track_names', 'track_occupancy', 'tracking_scores', 'tracks', 'video_ind', 'video_path']\n",
      "\n",
      "Padding locations. New shape: (39395, 6, 2, 1)\n",
      "dict_keys(['locations', 'head_velocity', 'interaction', 'rightear_x', 'rightear_y', 'tailbase_x', 'tailbase_y', 'nose_x', 'nose_y', 'head_x', 'head_y', 'leftear_x', 'leftear_y', 'torso_x', 'torso_y'])\n",
      "{'date': '06_10_2024', 'scene': 'social_unrestrict_nov_diffsex', 'session': 1, 'scan': 1, 'exp_day': 4}\n",
      "C:/Users/esay/data/social_interaction/SLEAPData\\social-0921-2\\06_10_2024\\social_unrestrict_nov_diffsex.h5\n",
      "===filename===\n",
      "C:/Users/esay/data/social_interaction/SLEAPData\\social-0921-2\\06_10_2024\\social_unrestrict_nov_diffsex.h5\n",
      "\n",
      "===HDF5 datasets===\n",
      "['edge_inds', 'edge_names', 'instance_scores', 'labels_path', 'node_names', 'point_scores', 'provenance', 'track_names', 'track_occupancy', 'tracking_scores', 'tracks', 'video_ind', 'video_path']\n",
      "\n",
      "Padding locations. New shape: (37795, 6, 2, 1)\n",
      "dict_keys(['locations', 'head_velocity', 'interaction', 'rightear_x', 'rightear_y', 'tailbase_x', 'tailbase_y', 'nose_x', 'nose_y', 'head_x', 'head_y', 'leftear_x', 'leftear_y', 'torso_x', 'torso_y'])\n",
      "{'date': '06_10_2024', 'scene': 'social_wheel_restrict', 'session': 1, 'scan': 1, 'exp_day': 4}\n",
      "C:/Users/esay/data/social_interaction/SLEAPData\\social-0921-2\\06_10_2024\\social_wheel_restrict.h5\n",
      "===filename===\n",
      "C:/Users/esay/data/social_interaction/SLEAPData\\social-0921-2\\06_10_2024\\social_wheel_restrict.h5\n",
      "\n",
      "===HDF5 datasets===\n",
      "['edge_inds', 'edge_names', 'instance_scores', 'labels_path', 'node_names', 'point_scores', 'provenance', 'track_names', 'track_occupancy', 'tracking_scores', 'tracks', 'video_ind', 'video_path']\n",
      "\n",
      "Padding locations. New shape: (19778, 6, 2, 1)\n",
      "dict_keys(['locations', 'head_velocity', 'interaction', 'rightear_x', 'rightear_y', 'tailbase_x', 'tailbase_y', 'nose_x', 'nose_y', 'head_x', 'head_y', 'leftear_x', 'leftear_y', 'torso_x', 'torso_y'])\n"
     ]
    },
    {
     "ename": "IndexError",
     "evalue": "tuple index out of range",
     "output_type": "error",
     "traceback": [
      "\u001b[1;31m---------------------------------------------------------------------------\u001b[0m",
      "\u001b[1;31mIndexError\u001b[0m                                Traceback (most recent call last)",
      "Cell \u001b[1;32mIn[98], line 5\u001b[0m\n\u001b[0;32m      2\u001b[0m source_folder \u001b[38;5;241m=\u001b[39m  \u001b[38;5;124m'\u001b[39m\u001b[38;5;124mC:/Users/esay/data/social_interaction/SLEAPData\u001b[39m\u001b[38;5;124m'\u001b[39m\n\u001b[0;32m      4\u001b[0m \u001b[38;5;28;01mfor\u001b[39;00m session \u001b[38;5;129;01min\u001b[39;00m \u001b[38;5;28mrange\u001b[39m(\u001b[38;5;241m0\u001b[39m,\u001b[38;5;241m18\u001b[39m):\n\u001b[1;32m----> 5\u001b[0m     f \u001b[38;5;241m=\u001b[39m \u001b[43msocial_int_behavior\u001b[49m\u001b[43m[\u001b[49m\u001b[43mmouse\u001b[49m\u001b[43m]\u001b[49m\u001b[43m[\u001b[49m\u001b[43msession\u001b[49m\u001b[43m]\u001b[49m\n\u001b[0;32m      6\u001b[0m     sess \u001b[38;5;241m=\u001b[39m SI\u001b[38;5;241m.\u001b[39mutilities_ES\u001b[38;5;241m.\u001b[39mload_vr_day(mouse,session)\n\u001b[0;32m      8\u001b[0m     scan_str \u001b[38;5;241m=\u001b[39m \u001b[38;5;124m\"\u001b[39m\u001b[38;5;132;01m%s\u001b[39;00m\u001b[38;5;124m_\u001b[39m\u001b[38;5;132;01m%03d\u001b[39;00m\u001b[38;5;124m_\u001b[39m\u001b[38;5;132;01m%03d\u001b[39;00m\u001b[38;5;124m\"\u001b[39m \u001b[38;5;241m%\u001b[39m (f[\u001b[38;5;124m'\u001b[39m\u001b[38;5;124mscene\u001b[39m\u001b[38;5;124m'\u001b[39m],f[\u001b[38;5;124m'\u001b[39m\u001b[38;5;124msession\u001b[39m\u001b[38;5;124m'\u001b[39m] ,f[\u001b[38;5;124m'\u001b[39m\u001b[38;5;124mscan\u001b[39m\u001b[38;5;124m'\u001b[39m])\n",
      "\u001b[1;31mIndexError\u001b[0m: tuple index out of range"
     ]
    }
   ],
   "source": [
    "mouse = social_mice[2]\n",
    "source_folder =  'C:/Users/esay/data/social_interaction/SLEAPData'\n",
    "\n",
    "for session in range(0,18):\n",
    "    f = social_int_behavior[mouse][session]\n",
    "    sess = SI.utilities_ES.load_vr_day(mouse,session)\n",
    "    \n",
    "    scan_str = \"%s_%03d_%03d\" % (f['scene'],f['session'] ,f['scan'])\n",
    "    source_stem = os.path.join(source_folder, mouse, f['date'], (f['scene']+'.h5') )\n",
    "    print(source_stem)\n",
    "    \n",
    "    if 'social' in f['scene']:\n",
    "        if 'tunnel' in f['scene']:\n",
    "            print(\"No SLEAP file for empty tunnel\")\n",
    "            continue\n",
    "        else:\n",
    "            df = slp.add_tunnel_sess(source_stem, sess)\n",
    "    else:\n",
    "        print(\"No SLEAP file for Env1_to_Env2 sessions\")\n",
    "    \n",
    "    "
   ]
  },
  {
   "cell_type": "markdown",
   "id": "b05bc998-b5ea-4c10-bd15-92a710569753",
   "metadata": {},
   "source": [
    "### check if tunnel_df can plot raster "
   ]
  },
  {
   "cell_type": "code",
   "execution_count": 107,
   "id": "a508fe8f-7db0-4b33-a772-43a398d60026",
   "metadata": {},
   "outputs": [
    {
     "name": "stdout",
     "output_type": "stream",
     "text": [
      "{'date': '04_10_2024', 'scene': 'social_unrestrict_fam', 'session': 1, 'scan': 1, 'exp_day': 2}\n"
     ]
    }
   ],
   "source": [
    "sess = SI.utilities_ES.load_vr_day(mouse,6)"
   ]
  },
  {
   "cell_type": "code",
   "execution_count": 108,
   "id": "40bc8cdd-dd7a-4939-9358-e42ccc833e48",
   "metadata": {},
   "outputs": [
    {
     "data": {
      "text/plain": [
       "[<matplotlib.lines.Line2D at 0x26ef0976650>]"
      ]
     },
     "execution_count": 108,
     "metadata": {},
     "output_type": "execute_result"
    },
    {
     "data": {
      "image/png": "[encoded data removed]",
      "text/plain": [
       "<Figure size 1000x500 with 1 Axes>"
      ]
     },
     "metadata": {},
     "output_type": "display_data"
    }
   ],
   "source": [
    "plt.figure(figsize=(10,5))\n",
    "plt.plot(sess.tunnel_df['head_velocity'])"
   ]
  },
  {
   "cell_type": "code",
   "execution_count": 111,
   "id": "73c5230a-4f4c-41e0-abb4-02d32ae24105",
   "metadata": {},
   "outputs": [
    {
     "data": {
      "image/png": "[encoded data removed]",
      "text/plain": [
       "<Figure size 1000x600 with 1 Axes>"
      ]
     },
     "metadata": {},
     "output_type": "display_data"
    }
   ],
   "source": [
    "# Initialize an empty list to store frame indices for each trial\n",
    "filtered_frames = []\n",
    "\n",
    "head_x = sess.tunnel_df['head_x']\n",
    "head_y = sess.tunnel_df['head_y']\n",
    "    \n",
    "# interaction zone x = [300,400] y=[200,300]\n",
    "# int_zone = (nose_x >= 300) & (nose_x <= 400) & (nose_y >= 200) & (nose_y <= 300)\n",
    "int_zone = (head_x >= 300) & (head_x <= 400) & (head_y >= 200) & (head_y <= 250)\n",
    "\n",
    "frame_indices = np.where(int_zone)[0]  \n",
    "\n",
    "filtered_frames.append(frame_indices)\n",
    "\n",
    "    \n",
    "# plot raster for sanity check \n",
    "fig, ax = plt.subplots(figsize=(10, 6))\n",
    "\n",
    "for i, frames in enumerate(filtered_frames):\n",
    "    ax.plot(frames, np.ones_like(frames) * i, '|', color='black', markersize=10)  # Raster points for each trial\n",
    "\n",
    "# Labeling the plot\n",
    "ax.set_title('Time spent in interaction zone')\n",
    "ax.set_xlabel('Frame')\n",
    "ax.set_ylabel('Mouse')\n",
    "ax.set_yticks(range(len(filtered_frames)))\n",
    "# ax.set_yticklabels(df['name'])\n",
    "\n",
    "ax.set_ylim(-1, len(filtered_frames))\n",
    "\n",
    "plt.show()"
   ]
  },
  {
   "cell_type": "code",
   "execution_count": null,
   "id": "61737794-adeb-4c59-99d0-9d32ee10d1bb",
   "metadata": {},
   "outputs": [],
   "source": []
  }
 ],
 "metadata": {
  "kernelspec": {
   "display_name": "Python 3 (ipykernel)",
   "language": "python",
   "name": "python3"
  },
  "language_info": {
   "codemirror_mode": {
    "name": "ipython",
    "version": 3
   },
   "file_extension": ".py",
   "mimetype": "text/x-python",
   "name": "python",
   "nbconvert_exporter": "python",
   "pygments_lexer": "ipython3",
   "version": "3.10.14"
  }
 },
 "nbformat": 4,
 "nbformat_minor": 5
}
