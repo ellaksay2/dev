{
 "cells": [
  {
   "cell_type": "markdown",
   "metadata": {},
   "source": [
    "# Make sess class for each session and save as pickle\n",
    "\n",
    "Currently uses info from sessions_dict.py to loop through sessions and create the sess class.\n",
    "\n",
    "sess pickle files will be named `<scene>_<session>_<scan>.pickle`  \\\n",
    "and saved in `path_dict['preprocessed_root']/sess/<animal>/<date>`.\n",
    "\n",
    "Set `overwrite` to `True` if you want to overwrite existing .pickle files. Otherwise, you will get an error that the file already exists."
   ]
  },
  {
   "cell_type": "code",
   "execution_count": 1,
   "metadata": {},
   "outputs": [],
   "source": [
    "overwrite = True"
   ]
  },
  {
   "cell_type": "code",
   "execution_count": 449,
   "metadata": {},
   "outputs": [
    {
     "name": "stdout",
     "output_type": "stream",
     "text": [
      "The autoreload extension is already loaded. To reload it, use:\n",
      "  %reload_ext autoreload\n"
     ]
    }
   ],
   "source": [
    "import os\n",
    "import glob\n",
    "import pickle\n",
    "import numpy as np\n",
    "\n",
    "import pandas as pd\n",
    "# import InVivoDA_analyses\n",
    "import social_int_analyses\n",
    "\n",
    "# from InVivoDA_analyses import preprocessing as pp\n",
    "from InVivoDA_analyses import utilities as ut\n",
    "\n",
    "from social_int_analyses import utilities_ES as u\n",
    "from social_int_analyses import sleap_utils as slp\n",
    "\n",
    "\n",
    "import TwoPUtils\n",
    "from TwoPUtils import preprocessing as pp\n",
    "\n",
    "from suite2p.io.binary import BinaryFile\n",
    "from PIL import Image\n",
    "import PIL\n",
    "\n",
    "import matplotlib.pyplot as plt\n",
    "\n",
    "%load_ext autoreload\n",
    "%autoreload 2"
   ]
  },
  {
   "cell_type": "markdown",
   "metadata": {},
   "source": [
    "### Specify your path dictionary here."
   ]
  },
  {
   "cell_type": "code",
   "execution_count": 7,
   "metadata": {},
   "outputs": [
    {
     "data": {
      "text/plain": [
       "{'preprocessed_root': 'C:/Users/esay/data/social_interaction',\n",
       " 'sbx_root': 'Z:/giocomo/candong/social_interaction_data/calcium_imaging',\n",
       " 'VR_Data': 'C:/Users/esay/data/social_interaction\\\\VRData',\n",
       " 'git_repo_root': 'C:\\\\Users\\\\esay\\\\repos',\n",
       " 'TwoPUtils': 'C:\\\\Users\\\\esay\\\\repos\\\\TwoPUtils',\n",
       " 'home': 'C:\\\\Users\\\\esay',\n",
       " 'fig_dir': 'Z:/giocomo/candong/social_interaction_data/calcium_imaging\\\\fig_scratch'}"
      ]
     },
     "execution_count": 7,
     "metadata": {},
     "output_type": "execute_result"
    }
   ],
   "source": [
    "from social_int_analyses.path_dict_esay import path_dictionary as path_dict\n",
    "# options: path_dict_josquin, path_dict_msosamac\n",
    "path_dict"
   ]
  },
  {
   "cell_type": "code",
   "execution_count": 450,
   "metadata": {},
   "outputs": [],
   "source": [
    "from social_int_analyses.social_int_sess_deets import social_2P_sessions\n",
    "from social_int_analyses.social_int_sess_deets import social_mice"
   ]
  },
  {
   "cell_type": "code",
   "execution_count": 451,
   "metadata": {
    "scrolled": true
   },
   "outputs": [
    {
     "name": "stdout",
     "output_type": "stream",
     "text": [
      "{'date': '03_10_2024', 'scene': 'social_emptytunnel', 'session': 1, 'scan': 6, 'exp_day': 1, 'mouse': 'social-0921-2', 'scan_file': 'Z:/giocomo/candong/social_interaction_data/calcium_imaging\\\\social-0921-2\\\\03_10_2024\\\\social_emptytunnel\\\\social_emptytunnel_001_006.sbx', 'scanheader_file': 'Z:/giocomo/candong/social_interaction_data/calcium_imaging\\\\social-0921-2\\\\03_10_2024\\\\social_emptytunnel\\\\social_emptytunnel_001_006.mat', 'vr_filename': 'C://Users/esay/data/social_interaction/VRData\\\\social-0921-2\\\\03_10_2024\\\\social_emptytunnel_1.sqlite', 'scan_number': 6, 'prompt_for_keys': False, 'VR_only': False, 'scanner': 'NLW', 'n_channels': 2, 'n_planes': 3}\n",
      "social_emptytunnel\n"
     ]
    },
    {
     "data": {
      "text/plain": [
       "'C:/Users/esay/data/social_interaction/SLEAPData\\\\social-0921-2\\\\03_10_2024\\\\social_emptytunnel.h5'"
      ]
     },
     "execution_count": 451,
     "metadata": {},
     "output_type": "execute_result"
    }
   ],
   "source": [
    "mouse = social_mice[2]\n",
    "d = social_2P_sessions[mouse][0]\n",
    "print(d)\n",
    "\n",
    "date, scene, session, scan = d['date'], d['scene'], d['session'], d['scan']\n",
    "print(scene)\n",
    "\n",
    "vrdir = path_dict['VR_Data']\n",
    "basedir = os.path.join(path_dict['sbx_root'], mouse,date,scene)\n",
    "stem =  os.path.join(basedir, f'{scene}_{session:03}_{scan:03}')\n",
    "source_folder =  'C:/Users/esay/data/social_interaction/SLEAPData'\n",
    "\n",
    "if 'diffsex' in scene:\n",
    "    if 'unrestrict' in scene:\n",
    "        basedir = os.path.join(path_dict['sbx_root'], mouse,date,'social_unrestrict_nov_diffgender')\n",
    "        stem = os.path.join(basedir, 'social_unrestrict_nov_diffgender_'f'{session:03}_{scan:03}')\n",
    "    else:\n",
    "        basedir = os.path.join(path_dict['sbx_root'], mouse,date,'social_restrict_nov_diffgender')\n",
    "        stem =os.path.join(basedir, 'social_restrict_nov_diffgender_'f'{session:03}_{scan:03}')\n",
    "\n",
    "source_stem = os.path.join(source_folder, mouse, date, (scene +'.h5') )\n",
    "\n",
    "d.update({'mouse': mouse ,\n",
    "          \n",
    "          'scan_file':stem + '.sbx',\n",
    "          'scanheader_file': stem + '.mat',\n",
    "          'vr_filename': os.path.join(\"C://Users/esay/data/social_interaction/VRData\",mouse,date,\"%s_%d.sqlite\" %(scene,session)),\n",
    "          'scan_number': scan,\n",
    "          'prompt_for_keys': False,\n",
    "          'VR_only': False,\n",
    "          'scanner': \"NLW\",\n",
    "          'n_channels':2,\n",
    "          'n_planes':3\n",
    "             })\n",
    "source_stem"
   ]
  },
  {
   "cell_type": "code",
   "execution_count": 446,
   "metadata": {},
   "outputs": [
    {
     "name": "stdout",
     "output_type": "stream",
     "text": [
      "frame rate 31.25\n",
      "(17975,) ttl times,(3284,) ca2+ frame times\n",
      "last time: VR 315.262625, ca2+ 315.168\n",
      "frame rate 31.25\n",
      "(17975,) ttl times,(3284,) ca2+ frame times\n",
      "last time: VR 315.262625, ca2+ 315.168\n",
      "(1642, 18) (1641, 18)\n",
      "===filename===\n",
      "C:/Users/esay/data/social_interaction/SLEAPData\\social-0921-2\\06_10_2024\\social_wheel_restrict.h5\n",
      "\n",
      "===HDF5 datasets===\n",
      "['edge_inds', 'edge_names', 'instance_scores', 'labels_path', 'node_names', 'point_scores', 'provenance', 'track_names', 'track_occupancy', 'tracking_scores', 'tracks', 'video_ind', 'video_path']\n",
      "\n"
     ]
    },
    {
     "name": "stderr",
     "output_type": "stream",
     "text": [
      "c:\\users\\esay\\repos\\twoputils\\TwoPUtils\\preprocessing.py:374: UserWarning: one frame correction\n",
      "  warnings.warn('one frame correction')\n",
      "c:\\users\\esay\\repos\\twoputils\\TwoPUtils\\preprocessing.py:374: UserWarning: one frame correction\n",
      "  warnings.warn('one frame correction')\n"
     ]
    },
    {
     "name": "stdout",
     "output_type": "stream",
     "text": [
      "dict_keys(['locations', 'head_velocity', 'interaction', 'rightear_x', 'rightear_y', 'tailbase_x', 'tailbase_y', 'nose_x', 'nose_y', 'head_x', 'head_y', 'leftear_x', 'leftear_y', 'torso_x', 'torso_y'])\n",
      "frame rate 31.25\n",
      "(17975,) ttl times,(3284,) ca2+ frame times\n",
      "last time: Tunnel 315.262625, ca2+ 315.168\n"
     ]
    },
    {
     "name": "stderr",
     "output_type": "stream",
     "text": [
      "c:\\users\\esay\\repos\\twoputils\\TwoPUtils\\preprocessing.py:553: UserWarning: one frame correction\n",
      "  warnings.warn('one frame correction')\n"
     ]
    }
   ],
   "source": [
    "sess = TwoPUtils.sess.Session(**d)\n",
    "sess.load_scan_info(sbx_version=3) #check sess.scan_info\n",
    "sess.align_VR_to_2P()\n",
    "# depends on vr being loaded already\n",
    "sess.align_SLEAP_to_2P()\n",
    "# sess.tunnel_data.shape, sess.vr_data.shape"
   ]
  },
  {
   "cell_type": "code",
   "execution_count": 447,
   "metadata": {},
   "outputs": [],
   "source": [
    "TwoPUtils.sess.save_session(sess,'C:/Users/esay/data/social_interaction/SessPkls')"
   ]
  },
  {
   "cell_type": "code",
   "execution_count": 377,
   "metadata": {},
   "outputs": [
    {
     "data": {
      "text/plain": [
       "[<matplotlib.lines.Line2D at 0x2833b7813c0>]"
      ]
     },
     "execution_count": 377,
     "metadata": {},
     "output_type": "execute_result"
    },
    {
     "data": {
      "image/png": "[encoded data removed]",
      "text/plain": [
       "<Figure size 1000x500 with 1 Axes>"
      ]
     },
     "metadata": {},
     "output_type": "display_data"
    }
   ],
   "source": [
    "plt.figure(figsize=(10,5))\n",
    "plt.plot(sess.tunnel_data['head_velocity'])"
   ]
  },
  {
   "cell_type": "code",
   "execution_count": 477,
   "metadata": {},
   "outputs": [
    {
     "data": {
      "text/plain": [
       "'Z:/giocomo/esay/cd_project/social_interaction/SessPkls\\\\social-0914-1\\\\03_10_2024\\\\social_restrict_fam_1.pkl'"
      ]
     },
     "execution_count": 477,
     "metadata": {},
     "output_type": "execute_result"
    }
   ],
   "source": [
    "import dill\n",
    "mouse = social_mice[0]\n",
    "d = social_2P_sessions[mouse][2]\n",
    "date, scene, session, scan = d['date'], d['scene'], d['session'], d['scan']\n",
    "pkldir = os.path.join('Z:/giocomo/esay/cd_project/social_interaction/SessPkls', mouse,  date, f'{scene}_{session}.pkl')\n",
    "\n",
    "with open(pkldir, 'rb') as file:\n",
    "    sess = dill.load(file)"
   ]
  },
  {
   "cell_type": "code",
   "execution_count": 479,
   "metadata": {},
   "outputs": [
    {
     "data": {
      "text/html": [
       "<div>\n",
       "<style scoped>\n",
       "    .dataframe tbody tr th:only-of-type {\n",
       "        vertical-align: middle;\n",
       "    }\n",
       "\n",
       "    .dataframe tbody tr th {\n",
       "        vertical-align: top;\n",
       "    }\n",
       "\n",
       "    .dataframe thead th {\n",
       "        text-align: right;\n",
       "    }\n",
       "</style>\n",
       "<table border=\"1\" class=\"dataframe\">\n",
       "  <thead>\n",
       "    <tr style=\"text-align: right;\">\n",
       "      <th></th>\n",
       "      <th>head_velocity</th>\n",
       "      <th>interaction</th>\n",
       "      <th>rightear_x</th>\n",
       "      <th>rightear_y</th>\n",
       "      <th>tailbase_x</th>\n",
       "      <th>tailbase_y</th>\n",
       "      <th>nose_x</th>\n",
       "      <th>nose_y</th>\n",
       "      <th>head_x</th>\n",
       "      <th>head_y</th>\n",
       "      <th>leftear_x</th>\n",
       "      <th>leftear_y</th>\n",
       "      <th>torso_x</th>\n",
       "      <th>torso_y</th>\n",
       "      <th>time</th>\n",
       "      <th>pos</th>\n",
       "    </tr>\n",
       "  </thead>\n",
       "  <tbody>\n",
       "    <tr>\n",
       "      <th>0</th>\n",
       "      <td>0.000000</td>\n",
       "      <td>-1.0</td>\n",
       "      <td>0.000000</td>\n",
       "      <td>0.000000</td>\n",
       "      <td>0.000000</td>\n",
       "      <td>0.000000</td>\n",
       "      <td>0.000000</td>\n",
       "      <td>0.000000</td>\n",
       "      <td>0.000000</td>\n",
       "      <td>0.000000</td>\n",
       "      <td>0.000000</td>\n",
       "      <td>0.000000</td>\n",
       "      <td>0.000000</td>\n",
       "      <td>0.000000</td>\n",
       "      <td>0.000</td>\n",
       "      <td>-500.0</td>\n",
       "    </tr>\n",
       "    <tr>\n",
       "      <th>1</th>\n",
       "      <td>0.000000</td>\n",
       "      <td>-1.0</td>\n",
       "      <td>0.000000</td>\n",
       "      <td>0.000000</td>\n",
       "      <td>0.000000</td>\n",
       "      <td>0.000000</td>\n",
       "      <td>0.000000</td>\n",
       "      <td>0.000000</td>\n",
       "      <td>0.000000</td>\n",
       "      <td>0.000000</td>\n",
       "      <td>0.000000</td>\n",
       "      <td>0.000000</td>\n",
       "      <td>0.000000</td>\n",
       "      <td>0.000000</td>\n",
       "      <td>0.096</td>\n",
       "      <td>-500.0</td>\n",
       "    </tr>\n",
       "    <tr>\n",
       "      <th>2</th>\n",
       "      <td>0.000000</td>\n",
       "      <td>-1.0</td>\n",
       "      <td>0.000000</td>\n",
       "      <td>0.000000</td>\n",
       "      <td>0.000000</td>\n",
       "      <td>0.000000</td>\n",
       "      <td>0.000000</td>\n",
       "      <td>0.000000</td>\n",
       "      <td>0.000000</td>\n",
       "      <td>0.000000</td>\n",
       "      <td>0.000000</td>\n",
       "      <td>0.000000</td>\n",
       "      <td>0.000000</td>\n",
       "      <td>0.000000</td>\n",
       "      <td>0.192</td>\n",
       "      <td>-500.0</td>\n",
       "    </tr>\n",
       "    <tr>\n",
       "      <th>3</th>\n",
       "      <td>0.000000</td>\n",
       "      <td>-1.0</td>\n",
       "      <td>0.000000</td>\n",
       "      <td>0.000000</td>\n",
       "      <td>0.000000</td>\n",
       "      <td>0.000000</td>\n",
       "      <td>0.000000</td>\n",
       "      <td>0.000000</td>\n",
       "      <td>0.000000</td>\n",
       "      <td>0.000000</td>\n",
       "      <td>0.000000</td>\n",
       "      <td>0.000000</td>\n",
       "      <td>0.000000</td>\n",
       "      <td>0.000000</td>\n",
       "      <td>0.288</td>\n",
       "      <td>-500.0</td>\n",
       "    </tr>\n",
       "    <tr>\n",
       "      <th>4</th>\n",
       "      <td>0.000000</td>\n",
       "      <td>-1.0</td>\n",
       "      <td>0.000000</td>\n",
       "      <td>0.000000</td>\n",
       "      <td>0.000000</td>\n",
       "      <td>0.000000</td>\n",
       "      <td>0.000000</td>\n",
       "      <td>0.000000</td>\n",
       "      <td>0.000000</td>\n",
       "      <td>0.000000</td>\n",
       "      <td>0.000000</td>\n",
       "      <td>0.000000</td>\n",
       "      <td>0.000000</td>\n",
       "      <td>0.000000</td>\n",
       "      <td>0.384</td>\n",
       "      <td>-500.0</td>\n",
       "    </tr>\n",
       "    <tr>\n",
       "      <th>...</th>\n",
       "      <td>...</td>\n",
       "      <td>...</td>\n",
       "      <td>...</td>\n",
       "      <td>...</td>\n",
       "      <td>...</td>\n",
       "      <td>...</td>\n",
       "      <td>...</td>\n",
       "      <td>...</td>\n",
       "      <td>...</td>\n",
       "      <td>...</td>\n",
       "      <td>...</td>\n",
       "      <td>...</td>\n",
       "      <td>...</td>\n",
       "      <td>...</td>\n",
       "      <td>...</td>\n",
       "      <td>...</td>\n",
       "    </tr>\n",
       "    <tr>\n",
       "      <th>3640</th>\n",
       "      <td>1.375842</td>\n",
       "      <td>0.0</td>\n",
       "      <td>391.977976</td>\n",
       "      <td>342.289125</td>\n",
       "      <td>294.033530</td>\n",
       "      <td>366.290319</td>\n",
       "      <td>429.877036</td>\n",
       "      <td>324.276702</td>\n",
       "      <td>387.902896</td>\n",
       "      <td>322.064770</td>\n",
       "      <td>374.043845</td>\n",
       "      <td>296.180861</td>\n",
       "      <td>343.944140</td>\n",
       "      <td>333.659437</td>\n",
       "      <td>349.440</td>\n",
       "      <td>-500.0</td>\n",
       "    </tr>\n",
       "    <tr>\n",
       "      <th>3641</th>\n",
       "      <td>4.596968</td>\n",
       "      <td>0.0</td>\n",
       "      <td>394.448618</td>\n",
       "      <td>335.557248</td>\n",
       "      <td>288.630078</td>\n",
       "      <td>367.868591</td>\n",
       "      <td>433.895191</td>\n",
       "      <td>323.801865</td>\n",
       "      <td>389.901722</td>\n",
       "      <td>317.430340</td>\n",
       "      <td>372.767896</td>\n",
       "      <td>291.444128</td>\n",
       "      <td>342.012979</td>\n",
       "      <td>331.903530</td>\n",
       "      <td>349.536</td>\n",
       "      <td>-500.0</td>\n",
       "    </tr>\n",
       "    <tr>\n",
       "      <th>3642</th>\n",
       "      <td>7.011683</td>\n",
       "      <td>0.0</td>\n",
       "      <td>404.619654</td>\n",
       "      <td>326.953392</td>\n",
       "      <td>302.619304</td>\n",
       "      <td>362.289635</td>\n",
       "      <td>421.171835</td>\n",
       "      <td>295.075024</td>\n",
       "      <td>443.987339</td>\n",
       "      <td>304.144441</td>\n",
       "      <td>454.065621</td>\n",
       "      <td>282.985519</td>\n",
       "      <td>347.962166</td>\n",
       "      <td>332.070933</td>\n",
       "      <td>349.632</td>\n",
       "      <td>-500.0</td>\n",
       "    </tr>\n",
       "    <tr>\n",
       "      <th>3643</th>\n",
       "      <td>2.301448</td>\n",
       "      <td>0.0</td>\n",
       "      <td>453.945143</td>\n",
       "      <td>314.201867</td>\n",
       "      <td>305.801105</td>\n",
       "      <td>361.869635</td>\n",
       "      <td>394.451778</td>\n",
       "      <td>247.423158</td>\n",
       "      <td>445.716952</td>\n",
       "      <td>296.052895</td>\n",
       "      <td>411.955443</td>\n",
       "      <td>320.350150</td>\n",
       "      <td>351.973796</td>\n",
       "      <td>330.193480</td>\n",
       "      <td>349.728</td>\n",
       "      <td>-500.0</td>\n",
       "    </tr>\n",
       "    <tr>\n",
       "      <th>3644</th>\n",
       "      <td>10.452133</td>\n",
       "      <td>0.0</td>\n",
       "      <td>452.520493</td>\n",
       "      <td>312.621245</td>\n",
       "      <td>306.052500</td>\n",
       "      <td>361.804331</td>\n",
       "      <td>375.924118</td>\n",
       "      <td>214.381404</td>\n",
       "      <td>446.123952</td>\n",
       "      <td>297.905090</td>\n",
       "      <td>406.672550</td>\n",
       "      <td>322.086151</td>\n",
       "      <td>350.113098</td>\n",
       "      <td>329.986383</td>\n",
       "      <td>349.824</td>\n",
       "      <td>-500.0</td>\n",
       "    </tr>\n",
       "  </tbody>\n",
       "</table>\n",
       "<p>3645 rows × 16 columns</p>\n",
       "</div>"
      ],
      "text/plain": [
       "      head_velocity  interaction  rightear_x  rightear_y  tailbase_x  \\\n",
       "0          0.000000         -1.0    0.000000    0.000000    0.000000   \n",
       "1          0.000000         -1.0    0.000000    0.000000    0.000000   \n",
       "2          0.000000         -1.0    0.000000    0.000000    0.000000   \n",
       "3          0.000000         -1.0    0.000000    0.000000    0.000000   \n",
       "4          0.000000         -1.0    0.000000    0.000000    0.000000   \n",
       "...             ...          ...         ...         ...         ...   \n",
       "3640       1.375842          0.0  391.977976  342.289125  294.033530   \n",
       "3641       4.596968          0.0  394.448618  335.557248  288.630078   \n",
       "3642       7.011683          0.0  404.619654  326.953392  302.619304   \n",
       "3643       2.301448          0.0  453.945143  314.201867  305.801105   \n",
       "3644      10.452133          0.0  452.520493  312.621245  306.052500   \n",
       "\n",
       "      tailbase_y      nose_x      nose_y      head_x      head_y   leftear_x  \\\n",
       "0       0.000000    0.000000    0.000000    0.000000    0.000000    0.000000   \n",
       "1       0.000000    0.000000    0.000000    0.000000    0.000000    0.000000   \n",
       "2       0.000000    0.000000    0.000000    0.000000    0.000000    0.000000   \n",
       "3       0.000000    0.000000    0.000000    0.000000    0.000000    0.000000   \n",
       "4       0.000000    0.000000    0.000000    0.000000    0.000000    0.000000   \n",
       "...          ...         ...         ...         ...         ...         ...   \n",
       "3640  366.290319  429.877036  324.276702  387.902896  322.064770  374.043845   \n",
       "3641  367.868591  433.895191  323.801865  389.901722  317.430340  372.767896   \n",
       "3642  362.289635  421.171835  295.075024  443.987339  304.144441  454.065621   \n",
       "3643  361.869635  394.451778  247.423158  445.716952  296.052895  411.955443   \n",
       "3644  361.804331  375.924118  214.381404  446.123952  297.905090  406.672550   \n",
       "\n",
       "       leftear_y     torso_x     torso_y     time    pos  \n",
       "0       0.000000    0.000000    0.000000    0.000 -500.0  \n",
       "1       0.000000    0.000000    0.000000    0.096 -500.0  \n",
       "2       0.000000    0.000000    0.000000    0.192 -500.0  \n",
       "3       0.000000    0.000000    0.000000    0.288 -500.0  \n",
       "4       0.000000    0.000000    0.000000    0.384 -500.0  \n",
       "...          ...         ...         ...      ...    ...  \n",
       "3640  296.180861  343.944140  333.659437  349.440 -500.0  \n",
       "3641  291.444128  342.012979  331.903530  349.536 -500.0  \n",
       "3642  282.985519  347.962166  332.070933  349.632 -500.0  \n",
       "3643  320.350150  351.973796  330.193480  349.728 -500.0  \n",
       "3644  322.086151  350.113098  329.986383  349.824 -500.0  \n",
       "\n",
       "[3645 rows x 16 columns]"
      ]
     },
     "execution_count": 479,
     "metadata": {},
     "output_type": "execute_result"
    }
   ],
   "source": [
    "sess.tunnel_data"
   ]
  },
  {
   "cell_type": "code",
   "execution_count": null,
   "metadata": {},
   "outputs": [],
   "source": []
  }
 ],
 "metadata": {
  "jupytext": {
   "formats": "ipynb,md"
  },
  "kernelspec": {
   "display_name": "Python 3 (ipykernel)",
   "language": "python",
   "name": "python3"
  },
  "language_info": {
   "codemirror_mode": {
    "name": "ipython",
    "version": 3
   },
   "file_extension": ".py",
   "mimetype": "text/x-python",
   "name": "python",
   "nbconvert_exporter": "python",
   "pygments_lexer": "ipython3",
   "version": "3.10.14"
  }
 },
 "nbformat": 4,
 "nbformat_minor": 4
}
