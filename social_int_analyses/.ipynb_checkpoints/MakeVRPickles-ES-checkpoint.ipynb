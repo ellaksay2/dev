{
 "cells": [
  {
   "cell_type": "code",
   "execution_count": 1,
   "id": "backed-sigma",
   "metadata": {},
   "outputs": [
    {
     "ename": "ModuleNotFoundError",
     "evalue": "No module named 'dill'",
     "output_type": "error",
     "traceback": [
      "\u001b[1;31m---------------------------------------------------------------------------\u001b[0m",
      "\u001b[1;31mModuleNotFoundError\u001b[0m                       Traceback (most recent call last)",
      "Cell \u001b[1;32mIn[1], line 2\u001b[0m\n\u001b[0;32m      1\u001b[0m \u001b[38;5;28;01mimport\u001b[39;00m\u001b[38;5;250m \u001b[39m\u001b[38;5;21;01mos\u001b[39;00m\n\u001b[1;32m----> 2\u001b[0m \u001b[38;5;28;01mimport\u001b[39;00m\u001b[38;5;250m \u001b[39m\u001b[38;5;21;01mdill\u001b[39;00m\n\u001b[0;32m      4\u001b[0m \u001b[38;5;28;01mimport\u001b[39;00m\u001b[38;5;250m \u001b[39m\u001b[38;5;21;01mnumpy\u001b[39;00m\u001b[38;5;250m \u001b[39m\u001b[38;5;28;01mas\u001b[39;00m\u001b[38;5;250m \u001b[39m\u001b[38;5;21;01mnp\u001b[39;00m\n\u001b[0;32m      5\u001b[0m \u001b[38;5;28;01mfrom\u001b[39;00m\u001b[38;5;250m \u001b[39m\u001b[38;5;21;01mmatplotlib\u001b[39;00m\u001b[38;5;250m \u001b[39m\u001b[38;5;28;01mimport\u001b[39;00m pyplot \u001b[38;5;28;01mas\u001b[39;00m plt\n",
      "\u001b[1;31mModuleNotFoundError\u001b[0m: No module named 'dill'"
     ]
    }
   ],
   "source": [
    "import os\n",
    "import dill\n",
    "\n",
    "import numpy as np\n",
    "from matplotlib import pyplot as plt\n",
    "\n",
    "import TwoPUtils\n",
    "import STX3KO_analyses as stx\n",
    "\n",
    "from STX3KO_analyses import utilities_ES as u\n",
    "\n",
    "%matplotlib inline\n",
    "\n",
    "%load_ext autoreload\n",
    "%autoreload 2"
   ]
  },
  {
   "cell_type": "code",
   "execution_count": 2,
   "id": "improved-qualification",
   "metadata": {},
   "outputs": [],
   "source": [
    "def update_sess_dict(mouse, f, KO = True):\n",
    "    scan_str = \"%s_%03d_%03d\" % (f['scene'],f['session'],f['scan'])\n",
    "\n",
    "    source_folder = \"Z:/giocomo/esay/Stx3/VRData\"\n",
    "    source_stem = os.path.join(source_folder, mouse, f['date'], f['scene'], scan_str)\n",
    "\n",
    "    f['mouse']=mouse\n",
    "    f.update({'vr_filename': os.path.join(\"Z:/giocomo/esay/Stx3/VRData\",f['mouse'],f['date'],\"%s_%d.sqlite\" %(f['scene'],f['session'])),\n",
    "              'scan_number': f['scan'],\n",
    "              'prompt_for_keys': False,\n",
    "              'VR_only': True,\n",
    "              'scanner': \"NLW\",\n",
    "             })\n",
    "    return f"
   ]
  },
  {
   "cell_type": "code",
   "execution_count": 3,
   "id": "outer-savage",
   "metadata": {},
   "outputs": [],
   "source": [
    "ko_sessions = stx.ymaze_sess_deets.KO_behavior_sessions\n",
    "ctrl_sessions = stx.ymaze_sess_deets.CTRL_behavior_sessions\n",
    "sparse_sessions = stx.ymaze_sess_deets.SparseKO_behavior_sessions"
   ]
  },
  {
   "cell_type": "code",
   "execution_count": 21,
   "id": "c212eadf-a1fe-4083-88c6-f9fc8bbd1d8c",
   "metadata": {},
   "outputs": [],
   "source": [
    "def run_and_save(fdict,comb_frames=0):\n",
    "\n",
    "            \n",
    "    sess = stx.session.YMazeSession(**fdict)\n",
    "    sess.align_VR_to_2P()\n",
    "    sess.get_trial_info()\n",
    "    \n",
    "    sess.add_timeseries(speed_raw=sess.vr_data['dz']._values)\n",
    "    sess.add_pos_binned_trial_matrix('speed_raw')\n",
    "    \n",
    "    sess.add_timeseries(speed=sess.vr_data['dz']._values)\n",
    "    sess.add_pos_binned_trial_matrix('speed')#, speed_thr=.01, speed = sess.timeseries['speed_raw'].ravel())\n",
    "\n",
    "    err_lick, err = correct_lick_sensor_error(sess.vr_data['lick'],sess.trial_start_inds, sess.teleport_inds, correction_thr=0.5) #correct for broken sensor\n",
    "    sess.add_timeseries(licks_rate = err_lick)\n",
    "    sess.add_pos_binned_trial_matrix('licks_rate')# ,speed_thr=.01, speed = sess.timeseries['speed_raw'].ravel())\n",
    "    sess.add_timeseries(licks=err_lick)\n",
    "    sess.timeseries['licks'][sess.timeseries['licks']>1]=1\n",
    "    sess.add_pos_binned_trial_matrix('licks')\n",
    "\n",
    "    # sess.add_timeseries(licks_rate=sess.vr_data['lick']._values)\n",
    "    # sess.add_pos_binned_trial_matrix('licks_rate')# ,speed_thr=.01, speed = sess.timeseries['speed_raw'].ravel())\n",
    "    \n",
    "    # sess.add_timeseries(licks=sess.vr_data['lick']._values)\n",
    "    # sess.timeseries['licks'][sess.timeseries['licks']>1]=1\n",
    "    # sess.add_pos_binned_trial_matrix('licks')\n",
    "    \n",
    "    licks = np.copy(sess.timeseries['licks'])\n",
    "    licks[licks>1]=1\n",
    "    time = sess.vr_data['time']\n",
    "\n",
    "    reward_inds = np.argwhere(sess.vr_data['reward']._values==1).ravel()\n",
    "    for r in reward_inds:\n",
    "        licks[0,((time-time[r])>=0)&((time-time[r])<2)] = 0\n",
    "\n",
    "    sess.add_timeseries(nonconsum_licks = licks)\n",
    "    sess.add_pos_binned_trial_matrix('nonconsum_licks')\n",
    "    \n",
    "    sess.add_timeseries(licks_sum=licks)\n",
    "    sess.add_pos_binned_trial_matrix('licks_sum',use_sum=True)\n",
    "    \n",
    "    # if fdict['mouse']=='4467975.4' and fdict['date']==\"28_09_2020\":\n",
    "    #     print(\"nan it\")\n",
    "    #     for key in ('licks_rate', 'licks', 'nonconsum_licks', 'licks_sum'):\n",
    "    #         print(sess.trial_matrices[key].shape)\n",
    "    #         sess.trial_matrices[key][34:68,:]=np.nan\n",
    "    #         fig,ax = plt.subplots()\n",
    "    #         ax.imshow(sess.trial_matrices[key])\n",
    "    #         print(np.isnan(sess.trial_matrices[key]).sum())\n",
    "    \n",
    "    for key in ('licks_rate', 'licks', 'nonconsum_licks', 'licks_sum'):\n",
    "        print(np.isnan(sess.trial_matrices[key]).sum())\n",
    "    \n",
    "    TwoPUtils.sess.save_session(sess,'C:/Users/esay/data/Stx3/YMaze_VR_Pkls/v2')\n",
    "    return comb_frames+sess.vr_data.shape[0]"
   ]
  },
  {
   "cell_type": "code",
   "execution_count": 24,
   "id": "noble-radar",
   "metadata": {},
   "outputs": [
    {
     "name": "stdout",
     "output_type": "stream",
     "text": [
      "{'date': '20_11_2024', 'scene': 'YMaze_LNovel', 'session': 1, 'scan': 20, 'novel_arm': -1, 'exp_day': 5, 'mouse': 'SparseKO_05', 'vr_filename': 'Z:/giocomo/esay/Stx3/VRData\\\\SparseKO_05\\\\20_11_2024\\\\YMaze_LNovel_1.sqlite', 'scan_number': 20, 'prompt_for_keys': False, 'VR_only': True, 'scanner': 'NLW'}\n",
      "SparseKO_05 {'date': '20_11_2024', 'scene': 'YMaze_LNovel', 'session': 1, 'scan': 20, 'novel_arm': -1, 'exp_day': 5, 'mouse': 'SparseKO_05', 'vr_filename': 'Z:/giocomo/esay/Stx3/VRData\\\\SparseKO_05\\\\20_11_2024\\\\YMaze_LNovel_1.sqlite', 'scan_number': 20, 'prompt_for_keys': False, 'VR_only': True, 'scanner': 'NLW'}\n",
      "Fixing teleports\n",
      "0\n",
      "0\n",
      "0\n",
      "0\n"
     ]
    }
   ],
   "source": [
    "mouse = 'SparseKO_05'\n",
    "f = sparse_sessions[mouse][4]\n",
    "print(f)\n",
    "f_ = update_sess_dict(mouse,f)\n",
    "print(mouse, f_)\n",
    "_ = run_and_save(f_)"
   ]
  },
  {
   "cell_type": "code",
   "execution_count": 23,
   "id": "28459ac6-77df-499e-952b-6858ef14cd9b",
   "metadata": {},
   "outputs": [],
   "source": [
    "def correct_lick_sensor_error(licks_, trial_starts, trial_ends, correction_thr=0.5):\n",
    "    \"\"\"\n",
    "    Find samples where lick detector was putatively stuck at 1, and set to NaN\n",
    "\n",
    "    :param licks_:\n",
    "    :type licks_:\n",
    "    :param trial_starts:\n",
    "    :type trial_starts:\n",
    "    :param trial_ends:\n",
    "    :type trial_ends:\n",
    "    :param correction_thr:\n",
    "    :type correction_thr:\n",
    "    :return:\n",
    "    :rtype:\n",
    "    \"\"\"\n",
    "    licks = np.copy(licks_)\n",
    "    error_count = 0\n",
    "    for t_start, t_end in zip(trial_starts, trial_ends):\n",
    "        # if >50% of samples have a cumulative lick count of >2\n",
    "        # print(licks[t_start:t_end])\n",
    "        if sum(licks[t_start:t_end] > 0)/len(licks[t_start:t_end]) > correction_thr:\n",
    "            licks[t_start:t_end] = 0\n",
    "            # print(f'setting trial {np.where(trial_starts==t_start)[0]} to NaN')\n",
    "            error_count += 1\n",
    "\n",
    "    return licks, error_count"
   ]
  },
  {
   "cell_type": "code",
   "execution_count": 13,
   "id": "electrical-politics",
   "metadata": {},
   "outputs": [
    {
     "name": "stdout",
     "output_type": "stream",
     "text": [
      "{'date': '22_11_2024', 'scene': 'YMaze_LNovel_LongTimeout', 'session': 2, 'scan': 15, 'novel_arm': -1, 'exp_day': 7, 'mouse': 'SparseKO_02', 'vr_filename': 'Z:/giocomo/esay/Stx3/VRData\\\\SparseKO_02\\\\22_11_2024\\\\YMaze_LNovel_LongTimeout_2.sqlite', 'scan_number': 15, 'prompt_for_keys': False, 'VR_only': True, 'scanner': 'NLW'}\n"
     ]
    },
    {
     "data": {
      "text/plain": [
       "<matplotlib.image.AxesImage at 0x2bf09e609a0>"
      ]
     },
     "execution_count": 13,
     "metadata": {},
     "output_type": "execute_result"
    },
    {
     "data": {
      "image/png": "[encoded data removed]",
      "text/plain": [
       "<Figure size 640x480 with 1 Axes>"
      ]
     },
     "metadata": {},
     "output_type": "display_data"
    }
   ],
   "source": [
    "sess = stx.utilities_ES.load_vr_day(mouse,-1)\n",
    "fig,ax = plt.subplots()\n",
    "ax.imshow(sess.trial_matrices['licks'])"
   ]
  },
  {
   "cell_type": "code",
   "execution_count": 15,
   "id": "dc02e7be-8aab-4aab-b551-925d804733ae",
   "metadata": {},
   "outputs": [
    {
     "name": "stdout",
     "output_type": "stream",
     "text": [
      "SparseKO_05\n",
      "SparseKO_05 {'date': '16_11_2024', 'scene': 'YMaze_LNovel', 'session': 1, 'scan': 22, 'novel_arm': -1, 'exp_day': 1, 'mouse': 'SparseKO_05', 'vr_filename': 'Z:/giocomo/esay/Stx3/VRData\\\\SparseKO_05\\\\16_11_2024\\\\YMaze_LNovel_1.sqlite', 'scan_number': 22, 'prompt_for_keys': False, 'VR_only': True, 'scanner': 'NLW'}\n",
      "Fixing teleports\n",
      "0\n",
      "0\n",
      "0\n",
      "0\n",
      "SparseKO_05 {'date': '17_11_2024', 'scene': 'YMaze_LNovel', 'session': 2, 'scan': 13, 'novel_arm': -1, 'exp_day': 2, 'mouse': 'SparseKO_05', 'vr_filename': 'Z:/giocomo/esay/Stx3/VRData\\\\SparseKO_05\\\\17_11_2024\\\\YMaze_LNovel_2.sqlite', 'scan_number': 13, 'prompt_for_keys': False, 'VR_only': True, 'scanner': 'NLW'}\n",
      "Fixing teleports\n",
      "0\n",
      "0\n",
      "0\n",
      "0\n",
      "SparseKO_05 {'date': '18_11_2024', 'scene': 'YMaze_LNovel', 'session': 1, 'scan': 10, 'novel_arm': -1, 'exp_day': 3, 'mouse': 'SparseKO_05', 'vr_filename': 'Z:/giocomo/esay/Stx3/VRData\\\\SparseKO_05\\\\18_11_2024\\\\YMaze_LNovel_1.sqlite', 'scan_number': 10, 'prompt_for_keys': False, 'VR_only': True, 'scanner': 'NLW'}\n",
      "Fixing teleports\n",
      "1\n",
      "1\n",
      "1\n",
      "1\n",
      "SparseKO_05 {'date': '19_11_2024', 'scene': 'YMaze_LNovel', 'session': 2, 'scan': 16, 'novel_arm': -1, 'exp_day': 4, 'mouse': 'SparseKO_05', 'vr_filename': 'Z:/giocomo/esay/Stx3/VRData\\\\SparseKO_05\\\\19_11_2024\\\\YMaze_LNovel_2.sqlite', 'scan_number': 16, 'prompt_for_keys': False, 'VR_only': True, 'scanner': 'NLW'}\n",
      "Fixing teleports\n",
      "0\n",
      "0\n",
      "0\n",
      "0\n",
      "SparseKO_05 {'date': '20_11_2024', 'scene': 'YMaze_LNovel', 'session': 1, 'scan': 20, 'novel_arm': -1, 'exp_day': 5, 'mouse': 'SparseKO_05', 'vr_filename': 'Z:/giocomo/esay/Stx3/VRData\\\\SparseKO_05\\\\20_11_2024\\\\YMaze_LNovel_1.sqlite', 'scan_number': 20, 'prompt_for_keys': False, 'VR_only': True, 'scanner': 'NLW'}\n",
      "Fixing teleports\n",
      "0\n",
      "0\n",
      "0\n",
      "0\n",
      "SparseKO_05 {'date': '21_11_2024', 'scene': 'YMaze_LNovel', 'session': 1, 'scan': 16, 'novel_arm': -1, 'exp_day': 6, 'mouse': 'SparseKO_05', 'vr_filename': 'Z:/giocomo/esay/Stx3/VRData\\\\SparseKO_05\\\\21_11_2024\\\\YMaze_LNovel_1.sqlite', 'scan_number': 16, 'prompt_for_keys': False, 'VR_only': True, 'scanner': 'NLW'}\n",
      "Fixing teleports\n",
      "0\n",
      "0\n",
      "0\n",
      "0\n",
      "SparseKO_05 {'date': '22_11_2024', 'scene': 'YMaze_LNovel_LongTimeout', 'session': 1, 'scan': 23, 'novel_arm': -1, 'exp_day': 7, 'mouse': 'SparseKO_05', 'vr_filename': 'Z:/giocomo/esay/Stx3/VRData\\\\SparseKO_05\\\\22_11_2024\\\\YMaze_LNovel_LongTimeout_1.sqlite', 'scan_number': 23, 'prompt_for_keys': False, 'VR_only': True, 'scanner': 'NLW'}\n",
      "Fixing teleports\n",
      "0\n",
      "0\n",
      "0\n",
      "0\n",
      "SparseKO_02\n",
      "SparseKO_02 {'date': '16_11_2024', 'scene': 'YMaze_LNovel', 'session': 4, 'scan': 14, 'novel_arm': -1, 'exp_day': 1, 'mouse': 'SparseKO_02', 'vr_filename': 'Z:/giocomo/esay/Stx3/VRData\\\\SparseKO_02\\\\16_11_2024\\\\YMaze_LNovel_4.sqlite', 'scan_number': 14, 'prompt_for_keys': False, 'VR_only': True, 'scanner': 'NLW'}\n",
      "Fixing teleports\n",
      "0\n",
      "0\n",
      "0\n",
      "0\n",
      "SparseKO_02 {'date': '17_11_2024', 'scene': 'YMaze_LNovel', 'session': 1, 'scan': 25, 'novel_arm': -1, 'exp_day': 2, 'mouse': 'SparseKO_02', 'vr_filename': 'Z:/giocomo/esay/Stx3/VRData\\\\SparseKO_02\\\\17_11_2024\\\\YMaze_LNovel_1.sqlite', 'scan_number': 25, 'prompt_for_keys': False, 'VR_only': True, 'scanner': 'NLW'}\n",
      "Fixing teleports\n",
      "0\n",
      "0\n",
      "0\n",
      "0\n",
      "SparseKO_02 {'date': '18_11_2024', 'scene': 'YMaze_LNovel', 'session': 1, 'scan': 18, 'novel_arm': -1, 'exp_day': 3, 'mouse': 'SparseKO_02', 'vr_filename': 'Z:/giocomo/esay/Stx3/VRData\\\\SparseKO_02\\\\18_11_2024\\\\YMaze_LNovel_1.sqlite', 'scan_number': 18, 'prompt_for_keys': False, 'VR_only': True, 'scanner': 'NLW'}\n",
      "Fixing teleports\n",
      "0\n",
      "0\n",
      "0\n",
      "0\n",
      "SparseKO_02 {'date': '19_11_2024', 'scene': 'YMaze_LNovel', 'session': 1, 'scan': 4, 'novel_arm': -1, 'exp_day': 4, 'mouse': 'SparseKO_02', 'vr_filename': 'Z:/giocomo/esay/Stx3/VRData\\\\SparseKO_02\\\\19_11_2024\\\\YMaze_LNovel_1.sqlite', 'scan_number': 4, 'prompt_for_keys': False, 'VR_only': True, 'scanner': 'NLW'}\n",
      "Fixing teleports\n",
      "0\n",
      "0\n",
      "0\n",
      "0\n",
      "SparseKO_02 {'date': '20_11_2024', 'scene': 'YMaze_LNovel', 'session': 1, 'scan': 12, 'novel_arm': -1, 'exp_day': 5, 'mouse': 'SparseKO_02', 'vr_filename': 'Z:/giocomo/esay/Stx3/VRData\\\\SparseKO_02\\\\20_11_2024\\\\YMaze_LNovel_1.sqlite', 'scan_number': 12, 'prompt_for_keys': False, 'VR_only': True, 'scanner': 'NLW'}\n",
      "Fixing teleports\n",
      "0\n",
      "0\n",
      "0\n",
      "0\n",
      "SparseKO_02 {'date': '21_11_2024', 'scene': 'YMaze_LNovel', 'session': 2, 'scan': 8, 'novel_arm': -1, 'exp_day': 6, 'mouse': 'SparseKO_02', 'vr_filename': 'Z:/giocomo/esay/Stx3/VRData\\\\SparseKO_02\\\\21_11_2024\\\\YMaze_LNovel_2.sqlite', 'scan_number': 8, 'prompt_for_keys': False, 'VR_only': True, 'scanner': 'NLW'}\n",
      "Fixing teleports\n",
      "0\n",
      "0\n",
      "0\n",
      "0\n",
      "SparseKO_02 {'date': '22_11_2024', 'scene': 'YMaze_LNovel_LongTimeout', 'session': 2, 'scan': 15, 'novel_arm': -1, 'exp_day': 7, 'mouse': 'SparseKO_02', 'vr_filename': 'Z:/giocomo/esay/Stx3/VRData\\\\SparseKO_02\\\\22_11_2024\\\\YMaze_LNovel_LongTimeout_2.sqlite', 'scan_number': 15, 'prompt_for_keys': False, 'VR_only': True, 'scanner': 'NLW'}\n",
      "Fixing teleports\n",
      "1\n",
      "1\n",
      "1\n",
      "1\n",
      "SparseKO_03\n",
      "SparseKO_03 {'date': '16_11_2024', 'scene': 'YMaze_LNovel', 'session': 1, 'scan': 17, 'novel_arm': 1, 'exp_day': 1, 'mouse': 'SparseKO_03', 'vr_filename': 'Z:/giocomo/esay/Stx3/VRData\\\\SparseKO_03\\\\16_11_2024\\\\YMaze_LNovel_1.sqlite', 'scan_number': 17, 'prompt_for_keys': False, 'VR_only': True, 'scanner': 'NLW'}\n",
      "Fixing teleports\n",
      "0\n",
      "0\n",
      "0\n",
      "0\n",
      "SparseKO_03 {'date': '17_11_2024', 'scene': 'YMaze_LNovel', 'session': 1, 'scan': 2, 'novel_arm': 1, 'exp_day': 2, 'mouse': 'SparseKO_03', 'vr_filename': 'Z:/giocomo/esay/Stx3/VRData\\\\SparseKO_03\\\\17_11_2024\\\\YMaze_LNovel_1.sqlite', 'scan_number': 2, 'prompt_for_keys': False, 'VR_only': True, 'scanner': 'NLW'}\n",
      "Fixing teleports\n",
      "1\n",
      "1\n",
      "1\n",
      "1\n",
      "SparseKO_03 {'date': '18_11_2024', 'scene': 'YMaze_LNovel', 'session': 2, 'scan': 6, 'novel_arm': 1, 'exp_day': 3, 'mouse': 'SparseKO_03', 'vr_filename': 'Z:/giocomo/esay/Stx3/VRData\\\\SparseKO_03\\\\18_11_2024\\\\YMaze_LNovel_2.sqlite', 'scan_number': 6, 'prompt_for_keys': False, 'VR_only': True, 'scanner': 'NLW'}\n",
      "Fixing teleports\n",
      "0\n",
      "0\n",
      "0\n",
      "0\n",
      "SparseKO_03 {'date': '19_11_2024', 'scene': 'YMaze_LNovel', 'session': 4, 'scan': 7, 'novel_arm': 1, 'exp_day': 4, 'mouse': 'SparseKO_03', 'vr_filename': 'Z:/giocomo/esay/Stx3/VRData\\\\SparseKO_03\\\\19_11_2024\\\\YMaze_LNovel_4.sqlite', 'scan_number': 7, 'prompt_for_keys': False, 'VR_only': True, 'scanner': 'NLW'}\n",
      "Fixing teleports\n",
      "0\n",
      "0\n",
      "0\n",
      "0\n",
      "SparseKO_03 {'date': '20_11_2024', 'scene': 'YMaze_LNovel', 'session': 1, 'scan': 16, 'novel_arm': 1, 'exp_day': 5, 'mouse': 'SparseKO_03', 'vr_filename': 'Z:/giocomo/esay/Stx3/VRData\\\\SparseKO_03\\\\20_11_2024\\\\YMaze_LNovel_1.sqlite', 'scan_number': 16, 'prompt_for_keys': False, 'VR_only': True, 'scanner': 'NLW'}\n",
      "Fixing teleports\n",
      "0\n",
      "0\n",
      "0\n",
      "0\n",
      "SparseKO_03 {'date': '21_11_2024', 'scene': 'YMaze_LNovel', 'session': 1, 'scan': 12, 'novel_arm': 1, 'exp_day': 6, 'mouse': 'SparseKO_03', 'vr_filename': 'Z:/giocomo/esay/Stx3/VRData\\\\SparseKO_03\\\\21_11_2024\\\\YMaze_LNovel_1.sqlite', 'scan_number': 12, 'prompt_for_keys': False, 'VR_only': True, 'scanner': 'NLW'}\n",
      "Fixing teleports\n",
      "0\n",
      "0\n",
      "0\n",
      "0\n",
      "SparseKO_03 {'date': '22_11_2024', 'scene': 'YMaze_LNovel_LongTimeout', 'session': 1, 'scan': 19, 'novel_arm': 1, 'exp_day': 7, 'mouse': 'SparseKO_03', 'vr_filename': 'Z:/giocomo/esay/Stx3/VRData\\\\SparseKO_03\\\\22_11_2024\\\\YMaze_LNovel_LongTimeout_1.sqlite', 'scan_number': 19, 'prompt_for_keys': False, 'VR_only': True, 'scanner': 'NLW'}\n",
      "Fixing teleports\n",
      "0\n",
      "0\n",
      "0\n",
      "0\n"
     ]
    }
   ],
   "source": [
    "d = sparse_sessions;\n",
    "\n",
    "for mouse, sess_list in d.items():\n",
    "        print(mouse)\n",
    "        for f in sess_list:\n",
    "            if isinstance(f,dict):\n",
    "                f_ = update_sess_dict(mouse,f)\n",
    "                print(mouse, f_)\n",
    "                _ = run_and_save(f_)\n",
    "            elif isinstance(f, tuple) or isinstance(f, list):\n",
    "                comb_frames = 0\n",
    "                for _f in f:\n",
    "                    \n",
    "                    f_ = update_sess_dict(mouse,_f)\n",
    "                    print(mouse, f_)\n",
    "                    comb_frames = run_and_save(f_,comb_frames=comb_frames)"
   ]
  },
  {
   "cell_type": "code",
   "execution_count": 46,
   "id": "bigger-highland",
   "metadata": {
    "scrolled": true
   },
   "outputs": [
    {
     "ename": "AttributeError",
     "evalue": "'str' object has no attribute 'items'",
     "output_type": "error",
     "traceback": [
      "\u001b[1;31m---------------------------------------------------------------------------\u001b[0m",
      "\u001b[1;31mAttributeError\u001b[0m                            Traceback (most recent call last)",
      "Cell \u001b[1;32mIn[46], line 3\u001b[0m\n\u001b[0;32m      1\u001b[0m \u001b[38;5;28;01mfor\u001b[39;00m d \u001b[38;5;129;01min\u001b[39;00m (sparse_sessions):\n\u001b[1;32m----> 3\u001b[0m     \u001b[38;5;28;01mfor\u001b[39;00m mouse, sess_list \u001b[38;5;129;01min\u001b[39;00m \u001b[43md\u001b[49m\u001b[38;5;241;43m.\u001b[39;49m\u001b[43mitems\u001b[49m():\n\u001b[0;32m      4\u001b[0m         \u001b[38;5;28mprint\u001b[39m(mouse)\n\u001b[0;32m      5\u001b[0m         \u001b[38;5;28;01mfor\u001b[39;00m f \u001b[38;5;129;01min\u001b[39;00m sess_list:\n",
      "\u001b[1;31mAttributeError\u001b[0m: 'str' object has no attribute 'items'"
     ]
    }
   ],
   "source": [
    "for d in (ko_sessions, ctrl_sessions):\n",
    "    \n",
    "    for mouse, sess_list in d.items():\n",
    "        print(mouse)\n",
    "        for f in sess_list:\n",
    "            if isinstance(f,dict):\n",
    "                f_ = update_sess_dict(mouse,f)\n",
    "                print(mouse, f_)\n",
    "                _ = run_and_save(f_)\n",
    "            elif isinstance(f, tuple) or isinstance(f, list):\n",
    "                comb_frames = 0\n",
    "                for _f in f:\n",
    "                    \n",
    "                    f_ = update_sess_dict(mouse,_f)\n",
    "                    print(mouse, f_)\n",
    "                    comb_frames = run_and_save(f_,comb_frames=comb_frames)\n"
   ]
  },
  {
   "cell_type": "code",
   "execution_count": 65,
   "id": "prescribed-essay",
   "metadata": {},
   "outputs": [
    {
     "name": "stdout",
     "output_type": "stream",
     "text": [
      "({'date': '16_11_2024', 'scene': 'YMaze_LNovel', 'session': 4, 'scan': 14, 'novel_arm': -1, 'exp_day': 1, 'mouse': 'SparseKO_02', 'vr_filename': 'Z:/giocomo/esay/Stx3/VRData\\\\SparseKO_02\\\\16_11_2024\\\\YMaze_LNovel_4.sqlite', 'scan_number': 14, 'prompt_for_keys': False, 'VR_only': True, 'scanner': 'NLW'}, {'date': '17_11_2024', 'scene': 'YMaze_LNovel', 'session': 1, 'scan': 25, 'novel_arm': -1, 'exp_day': 2, 'mouse': 'SparseKO_02', 'vr_filename': 'Z:/giocomo/esay/Stx3/VRData\\\\SparseKO_02\\\\17_11_2024\\\\YMaze_LNovel_1.sqlite', 'scan_number': 25, 'prompt_for_keys': False, 'VR_only': True, 'scanner': 'NLW'}, {'date': '18_11_2024', 'scene': 'YMaze_LNovel', 'session': 1, 'scan': 18, 'novel_arm': -1, 'exp_day': 3, 'mouse': 'SparseKO_02', 'vr_filename': 'Z:/giocomo/esay/Stx3/VRData\\\\SparseKO_02\\\\18_11_2024\\\\YMaze_LNovel_1.sqlite', 'scan_number': 18, 'prompt_for_keys': False, 'VR_only': True, 'scanner': 'NLW'}, {'date': '19_11_2024', 'scene': 'YMaze_LNovel', 'session': 1, 'scan': 4, 'novel_arm': -1, 'exp_day': 4, 'mouse': 'SparseKO_02', 'vr_filename': 'Z:/giocomo/esay/Stx3/VRData\\\\SparseKO_02\\\\19_11_2024\\\\YMaze_LNovel_1.sqlite', 'scan_number': 4, 'prompt_for_keys': False, 'VR_only': True, 'scanner': 'NLW'}, {'date': '20_11_2024', 'scene': 'YMaze_LNovel', 'session': 1, 'scan': 12, 'novel_arm': -1, 'exp_day': 5, 'mouse': 'SparseKO_02', 'vr_filename': 'Z:/giocomo/esay/Stx3/VRData\\\\SparseKO_02\\\\20_11_2024\\\\YMaze_LNovel_1.sqlite', 'scan_number': 12, 'prompt_for_keys': False, 'VR_only': True, 'scanner': 'NLW'}, {'date': '21_11_2024', 'scene': 'YMaze_LNovel', 'session': 2, 'scan': 8, 'novel_arm': -1, 'exp_day': 6, 'mouse': 'SparseKO_02', 'vr_filename': 'Z:/giocomo/esay/Stx3/VRData\\\\SparseKO_02\\\\21_11_2024\\\\YMaze_LNovel_2.sqlite', 'scan_number': 8, 'prompt_for_keys': False, 'VR_only': True, 'scanner': 'NLW'}, {'date': '22_11_2024', 'scene': 'YMaze_LNovel_LongTimeout', 'session': 2, 'scan': 15, 'novel_arm': -1, 'exp_day': 7, 'mouse': 'SparseKO_02', 'vr_filename': 'Z:/giocomo/esay/Stx3/VRData\\\\SparseKO_02\\\\22_11_2024\\\\YMaze_LNovel_LongTimeout_2.sqlite', 'scan_number': 15, 'prompt_for_keys': False, 'VR_only': True, 'scanner': 'NLW'})\n"
     ]
    }
   ],
   "source": [
    "basedir = \"C:/Users/esay/data/Stx3/YMaze_VR_Pkls\"\n",
    "\n",
    "mouse = 'SparseKO_02'\n",
    "f_dict = sparse_sessions[mouse]\n",
    "print(f_dict)\n",
    "f = f_dict[1]\n",
    "\n",
    "file = os.path.join(basedir, mouse, f['date'], \"%s_%d.pkl\" % (f['scene'], f['session']))\n",
    "sess = stx.session.YMazeSession.from_file(file)"
   ]
  },
  {
   "cell_type": "code",
   "execution_count": 66,
   "id": "urban-digit",
   "metadata": {},
   "outputs": [
    {
     "data": {
      "text/plain": [
       "dict_keys(['speed_raw', 'bin_edges', 'bin_centers', 'speed', 'licks_rate', 'licks', 'nonconsum_licks', 'licks_sum'])"
      ]
     },
     "execution_count": 66,
     "metadata": {},
     "output_type": "execute_result"
    }
   ],
   "source": [
    "sess.trial_matrices.keys()"
   ]
  },
  {
   "cell_type": "code",
   "execution_count": 67,
   "id": "subtle-fiber",
   "metadata": {},
   "outputs": [
    {
     "data": {
      "text/plain": [
       "array([ 1.,  1.,  1.,  1.,  1.,  1.,  1.,  1.,  1.,  1.,  1.,  1.,  1.,\n",
       "        1.,  1.,  1.,  1.,  1.,  1.,  1.,  1.,  1.,  1.,  1.,  1.,  1.,\n",
       "        1.,  1.,  1.,  1.,  1.,  1.,  1.,  1.,  1.,  1.,  1.,  1.,  1.,\n",
       "        1.,  1.,  1.,  1.,  1.,  1.,  1.,  1.,  1.,  1.,  1.,  1.,  1.,\n",
       "        1.,  1.,  1.,  1.,  1.,  1.,  1.,  1.,  1.,  1.,  1.,  1.,  1.,\n",
       "        1.,  1.,  1.,  1., -1., -1.,  1.,  1.,  1., -1., -1.,  1.,  1.,\n",
       "        1., -1., -1.,  1., -1., -1.,  1.,  1.,  1., -1., -1., -1., -1.,\n",
       "       -1., -1.])"
      ]
     },
     "execution_count": 67,
     "metadata": {},
     "output_type": "execute_result"
    }
   ],
   "source": [
    "sess.trial_info['LR']"
   ]
  },
  {
   "cell_type": "code",
   "execution_count": 68,
   "id": "wicked-saint",
   "metadata": {},
   "outputs": [
    {
     "data": {
      "text/plain": [
       "<matplotlib.image.AxesImage at 0x1ae05ca92d0>"
      ]
     },
     "execution_count": 68,
     "metadata": {},
     "output_type": "execute_result"
    },
    {
     "data": {
      "image/png": "[encoded data removed]",
      "text/plain": [
       "<Figure size 640x480 with 1 Axes>"
      ]
     },
     "metadata": {},
     "output_type": "display_data"
    }
   ],
   "source": [
    "fig, ax = plt.subplots()\n",
    "ax.imshow(sess.trial_matrices['licks'][sess.trial_info['LR']==-1])"
   ]
  },
  {
   "cell_type": "code",
   "execution_count": null,
   "id": "automatic-dictionary",
   "metadata": {},
   "outputs": [],
   "source": []
  }
 ],
 "metadata": {
  "kernelspec": {
   "display_name": "Python 3 (ipykernel)",
   "language": "python",
   "name": "python3"
  },
  "language_info": {
   "codemirror_mode": {
    "name": "ipython",
    "version": 3
   },
   "file_extension": ".py",
   "mimetype": "text/x-python",
   "name": "python",
   "nbconvert_exporter": "python",
   "pygments_lexer": "ipython3",
   "version": "3.11.11"
  }
 },
 "nbformat": 4,
 "nbformat_minor": 5
}
